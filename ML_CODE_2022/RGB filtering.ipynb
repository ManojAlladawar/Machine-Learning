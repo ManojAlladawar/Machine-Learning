{
 "cells": [
  {
   "cell_type": "code",
   "execution_count": 1,
   "id": "2d21c8fc",
   "metadata": {},
   "outputs": [],
   "source": [
    "import cv2"
   ]
  },
  {
   "cell_type": "code",
   "execution_count": 2,
   "id": "a348a8c8",
   "metadata": {},
   "outputs": [],
   "source": [
    "cap = cv2.VideoCapture(0)\n"
   ]
  },
  {
   "cell_type": "code",
   "execution_count": 3,
   "id": "09c5e65d",
   "metadata": {},
   "outputs": [],
   "source": [
    "ret, photo = cap.read()"
   ]
  },
  {
   "cell_type": "code",
   "execution_count": 4,
   "id": "a0dfea70",
   "metadata": {},
   "outputs": [],
   "source": [
    "cap.release()"
   ]
  },
  {
   "cell_type": "code",
   "execution_count": 5,
   "id": "c5d81215",
   "metadata": {},
   "outputs": [
    {
     "data": {
      "text/plain": [
       "numpy.ndarray"
      ]
     },
     "execution_count": 5,
     "metadata": {},
     "output_type": "execute_result"
    }
   ],
   "source": [
    "type(photo)"
   ]
  },
  {
   "cell_type": "code",
   "execution_count": 6,
   "id": "86d24e37",
   "metadata": {},
   "outputs": [],
   "source": [
    "b,g,r = cv2.split(photo)"
   ]
  },
  {
   "cell_type": "code",
   "execution_count": 7,
   "id": "bd7e84bb",
   "metadata": {},
   "outputs": [
    {
     "data": {
      "text/plain": [
       "(array([[154, 152, 149, ...,  78,  80,  81],\n",
       "        [157, 154, 151, ...,  80,  82,  83],\n",
       "        [156, 153, 151, ...,  82,  85,  86],\n",
       "        ...,\n",
       "        [ 36,  37,  40, ..., 117, 110, 105],\n",
       "        [ 29,  31,  35, ..., 117, 113, 109],\n",
       "        [ 27,  29,  34, ..., 117, 116, 114]], dtype=uint8),\n",
       " array([[124, 121, 119, ...,  63,  65,  66],\n",
       "        [128, 125, 121, ...,  65,  67,  68],\n",
       "        [130, 127, 124, ...,  67,  69,  70],\n",
       "        ...,\n",
       "        [ 42,  42,  43, ..., 117, 110, 105],\n",
       "        [ 38,  38,  38, ..., 117, 113, 109],\n",
       "        [ 37,  37,  38, ..., 117, 116, 114]], dtype=uint8),\n",
       " array([[106, 105, 105, ..., 102, 103, 104],\n",
       "        [111, 108, 109, ..., 103, 105, 106],\n",
       "        [116, 114, 114, ..., 104, 106, 107],\n",
       "        ...,\n",
       "        [ 47,  47,  47, ..., 117, 110, 105],\n",
       "        [ 45,  45,  45, ..., 117, 113, 109],\n",
       "        [ 47,  46,  47, ..., 117, 116, 114]], dtype=uint8))"
      ]
     },
     "execution_count": 7,
     "metadata": {},
     "output_type": "execute_result"
    }
   ],
   "source": [
    "b,g,r"
   ]
  },
  {
   "cell_type": "code",
   "execution_count": 8,
   "id": "b3625786",
   "metadata": {},
   "outputs": [
    {
     "data": {
      "text/plain": [
       "(480, 640, 3)"
      ]
     },
     "execution_count": 8,
     "metadata": {},
     "output_type": "execute_result"
    }
   ],
   "source": [
    "photo.shape"
   ]
  },
  {
   "cell_type": "code",
   "execution_count": null,
   "id": "227cb07d",
   "metadata": {},
   "outputs": [],
   "source": [
    "cv2.imshow(\"hi\", photo)\n",
    "# cv2.waitKey()\n",
    "cv2.destroyAllWindows()"
   ]
  },
  {
   "cell_type": "code",
   "execution_count": 7,
   "id": "d309c203",
   "metadata": {},
   "outputs": [],
   "source": [
    "nphoto = cv2.blur(photo , (15,15) )"
   ]
  },
  {
   "cell_type": "code",
   "execution_count": 8,
   "id": "4489e429",
   "metadata": {},
   "outputs": [
    {
     "data": {
      "text/plain": [
       "array([[[152, 131, 124],\n",
       "        [152, 131, 124],\n",
       "        [152, 131, 124],\n",
       "        ...,\n",
       "        [ 88,  76, 106],\n",
       "        [ 88,  76, 106],\n",
       "        [ 88,  76, 107]],\n",
       "\n",
       "       [[151, 131, 124],\n",
       "        [152, 131, 124],\n",
       "        [152, 131, 124],\n",
       "        ...,\n",
       "        [ 88,  76, 106],\n",
       "        [ 88,  76, 107],\n",
       "        [ 88,  76, 107]],\n",
       "\n",
       "       [[151, 131, 124],\n",
       "        [151, 131, 124],\n",
       "        [151, 131, 124],\n",
       "        ...,\n",
       "        [ 89,  77, 107],\n",
       "        [ 89,  77, 108],\n",
       "        [ 89,  77, 108]],\n",
       "\n",
       "       ...,\n",
       "\n",
       "       [[ 45,  39,  50],\n",
       "        [ 45,  39,  51],\n",
       "        [ 46,  40,  51],\n",
       "        ...,\n",
       "        [120, 120, 121],\n",
       "        [120, 120, 121],\n",
       "        [120, 120, 121]],\n",
       "\n",
       "       [[ 45,  39,  50],\n",
       "        [ 45,  40,  51],\n",
       "        [ 46,  40,  51],\n",
       "        ...,\n",
       "        [120, 120, 120],\n",
       "        [120, 120, 120],\n",
       "        [120, 120, 120]],\n",
       "\n",
       "       [[ 45,  39,  50],\n",
       "        [ 45,  39,  50],\n",
       "        [ 46,  40,  51],\n",
       "        ...,\n",
       "        [121, 121, 121],\n",
       "        [121, 121, 121],\n",
       "        [121, 121, 121]]], dtype=uint8)"
      ]
     },
     "execution_count": 8,
     "metadata": {},
     "output_type": "execute_result"
    }
   ],
   "source": [
    "nphoto"
   ]
  },
  {
   "cell_type": "code",
   "execution_count": 9,
   "id": "0f42c494",
   "metadata": {},
   "outputs": [],
   "source": [
    "cv2.imshow(\"hi\", photo)"
   ]
  },
  {
   "cell_type": "code",
   "execution_count": 10,
   "id": "c62b0f1b",
   "metadata": {},
   "outputs": [],
   "source": [
    "cv2.destroyAllWindows()"
   ]
  },
  {
   "cell_type": "markdown",
   "id": "ad7784c8",
   "metadata": {},
   "source": [
    "# live image crop"
   ]
  },
  {
   "cell_type": "code",
   "execution_count": 11,
   "id": "ba956dc1",
   "metadata": {},
   "outputs": [],
   "source": [
    "import cv2"
   ]
  },
  {
   "cell_type": "code",
   "execution_count": 12,
   "id": "d8f2f0ef",
   "metadata": {},
   "outputs": [],
   "source": [
    "cap = cv2.VideoCapture(0)"
   ]
  },
  {
   "cell_type": "code",
   "execution_count": 13,
   "id": "c33c6741",
   "metadata": {},
   "outputs": [],
   "source": [
    "ret, photo = cap.read()"
   ]
  },
  {
   "cell_type": "code",
   "execution_count": 14,
   "id": "9281992f",
   "metadata": {},
   "outputs": [],
   "source": [
    "cap.release()"
   ]
  },
  {
   "cell_type": "code",
   "execution_count": 15,
   "id": "c670a61d",
   "metadata": {},
   "outputs": [
    {
     "data": {
      "text/plain": [
       "True"
      ]
     },
     "execution_count": 15,
     "metadata": {},
     "output_type": "execute_result"
    }
   ],
   "source": [
    "ret"
   ]
  },
  {
   "cell_type": "code",
   "execution_count": 16,
   "id": "8d3c8f53",
   "metadata": {},
   "outputs": [],
   "source": [
    "model = cv2.CascadeClassifier('haarcascade_frontalface_default.xml')"
   ]
  },
  {
   "cell_type": "code",
   "execution_count": 17,
   "id": "a37c79a5",
   "metadata": {},
   "outputs": [
    {
     "data": {
      "text/plain": [
       "<CascadeClassifier 000001196C3F92D0>"
      ]
     },
     "execution_count": 17,
     "metadata": {},
     "output_type": "execute_result"
    }
   ],
   "source": [
    "model"
   ]
  },
  {
   "cell_type": "code",
   "execution_count": 19,
   "id": "e03f0b4e",
   "metadata": {},
   "outputs": [
    {
     "data": {
      "text/plain": [
       "cv2.CascadeClassifier"
      ]
     },
     "execution_count": 19,
     "metadata": {},
     "output_type": "execute_result"
    }
   ],
   "source": [
    "type(model)"
   ]
  },
  {
   "cell_type": "code",
   "execution_count": null,
   "id": "93367653",
   "metadata": {},
   "outputs": [],
   "source": [
    "while False:\n",
    "    ret, photo = cap.read()\n",
    "    fdetect  = model.detectMultiScale(photo)\n",
    "    if len(fdetect) == 0:\n",
    "        print(\"no faces\")\n",
    "    else:\n",
    "        x1 = fdetect[0][0]\n",
    "        y1 = fdetect[0][1]\n",
    "        x2 = fdetect[0][2] + x1\n",
    "        y2 = fdetect[0][3] + y1 \n",
    "        # rphoto = cv2.rectangle(photo , (x1,y1), (x2,y2), [0, 255,0] , 2)\n",
    "        #cphoto = photo[y1:y2 , x1:x2]\n",
    "        # bphoto = cv2.blur(cphoto, (15,15))\n",
    "        cv2.imshow('hi', photo)\n",
    "        if cv2.waitKey(100) == 13:\n",
    "            break\n",
    "        \n",
    "        \n",
    "cv2.destroyAllWindows()"
   ]
  },
  {
   "cell_type": "code",
   "execution_count": null,
   "id": "d4978d42",
   "metadata": {},
   "outputs": [],
   "source": [
    "fdetect"
   ]
  },
  {
   "cell_type": "code",
   "execution_count": null,
   "id": "d306a185",
   "metadata": {},
   "outputs": [],
   "source": [
    "x1 = fdetect[0][0]\n",
    "y1 = fdetect[0][1]\n",
    "x2 = fdetect[0][2] + x1\n",
    "y2 = fdetect[0][3] + y1 "
   ]
  },
  {
   "cell_type": "code",
   "execution_count": null,
   "id": "d1381173",
   "metadata": {},
   "outputs": [],
   "source": [
    "rphoto = cv2.rectangle(photo , (x1,y1), (x2,y2), [0, 255,0] , 2)"
   ]
  },
  {
   "cell_type": "code",
   "execution_count": null,
   "id": "bf463a4c",
   "metadata": {},
   "outputs": [],
   "source": [
    "cv2.imshow('hi', rphoto)\n",
    "cv2.waitKey()\n",
    "cv2.destroyAllWindows()"
   ]
  }
 ],
 "metadata": {
  "kernelspec": {
   "display_name": "Python 3 (ipykernel)",
   "language": "python",
   "name": "python3"
  },
  "language_info": {
   "codemirror_mode": {
    "name": "ipython",
    "version": 3
   },
   "file_extension": ".py",
   "mimetype": "text/x-python",
   "name": "python",
   "nbconvert_exporter": "python",
   "pygments_lexer": "ipython3",
   "version": "3.9.7"
  }
 },
 "nbformat": 4,
 "nbformat_minor": 5
}
