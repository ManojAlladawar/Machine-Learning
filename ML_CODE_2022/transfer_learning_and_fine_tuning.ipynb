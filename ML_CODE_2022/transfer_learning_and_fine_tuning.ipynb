{
  "cells": [
    {
      "cell_type": "code",
      "execution_count": null,
      "metadata": {
        "id": "a_lSQO54jNFg"
      },
      "outputs": [],
      "source": [
        "from keras.applications import MobileNet"
      ]
    },
    {
      "cell_type": "code",
      "execution_count": null,
      "metadata": {
        "id": "DU_sMKpLjNFl"
      },
      "outputs": [],
      "source": [
        "model = MobileNet(weights='imagenet'  , include_top = False ,\n",
        "                  input_shape=(224,224,3))"
      ]
    },
    {
      "cell_type": "code",
      "execution_count": null,
      "metadata": {
        "id": "dfgWkXvCjNFn",
        "outputId": "b6f22660-df38-492b-a466-e20d6e223cd7"
      },
      "outputs": [
        {
          "data": {
            "text/plain": [
              "<tf.Tensor 'input_3:0' shape=(None, 224, 224, 3) dtype=float32>"
            ]
          },
          "execution_count": 45,
          "metadata": {},
          "output_type": "execute_result"
        }
      ],
      "source": [
        "model.layers[0].input"
      ]
    },
    {
      "cell_type": "code",
      "execution_count": null,
      "metadata": {
        "id": "2GMuFqMvjNFq",
        "outputId": "56a5a37a-14bd-421a-8996-b00b7f9845a9"
      },
      "outputs": [
        {
          "data": {
            "text/plain": [
              "'InputLayer'"
            ]
          },
          "execution_count": 46,
          "metadata": {},
          "output_type": "execute_result"
        }
      ],
      "source": [
        "model.layers[0].__class__.__name__"
      ]
    },
    {
      "cell_type": "code",
      "execution_count": null,
      "metadata": {
        "id": "JsS7vuINjNFs",
        "outputId": "d0730b62-8466-4de9-8908-73381a65173e"
      },
      "outputs": [
        {
          "data": {
            "text/plain": [
              "True"
            ]
          },
          "execution_count": 47,
          "metadata": {},
          "output_type": "execute_result"
        }
      ],
      "source": [
        "model.layers[3].trainable"
      ]
    },
    {
      "cell_type": "code",
      "execution_count": null,
      "metadata": {
        "id": "XEcsas4_jNFu"
      },
      "outputs": [],
      "source": [
        "model.layers[3].trainable = False"
      ]
    },
    {
      "cell_type": "code",
      "execution_count": null,
      "metadata": {
        "id": "7ipv27p0jNFu",
        "outputId": "fdef6a5c-7698-4b58-f4be-59d02dd3e23a"
      },
      "outputs": [
        {
          "data": {
            "text/plain": [
              "False"
            ]
          },
          "execution_count": 49,
          "metadata": {},
          "output_type": "execute_result"
        }
      ],
      "source": [
        "model.layers[3].trainable"
      ]
    },
    {
      "cell_type": "code",
      "execution_count": null,
      "metadata": {
        "id": "po_LzpBfjNFw"
      },
      "outputs": [],
      "source": [
        "for  layer in model.layers:\n",
        "    layer.trainable = False"
      ]
    },
    {
      "cell_type": "code",
      "execution_count": null,
      "metadata": {
        "id": "MAQLD03djNFx",
        "outputId": "01cdafdd-fea9-4a52-b6f4-04941a788f7e"
      },
      "outputs": [
        {
          "data": {
            "text/plain": [
              "False"
            ]
          },
          "execution_count": 51,
          "metadata": {},
          "output_type": "execute_result"
        }
      ],
      "source": [
        "model.layers[9].trainable"
      ]
    },
    {
      "cell_type": "code",
      "execution_count": null,
      "metadata": {
        "id": "7InLpLiGjNFz",
        "outputId": "e25a94ec-1711-4346-d325-bf7c5b6688a0"
      },
      "outputs": [
        {
          "data": {
            "text/plain": [
              "[<keras.engine.input_layer.InputLayer at 0x1821dbb8788>,\n",
              " <keras.layers.convolutional.ZeroPadding2D at 0x1821bd77b88>,\n",
              " <keras.layers.convolutional.Conv2D at 0x1821bd8af88>,\n",
              " <keras.layers.normalization.BatchNormalization at 0x1821dbc2388>,\n",
              " <keras.layers.advanced_activations.ReLU at 0x1821dbb0cc8>,\n",
              " <keras.layers.convolutional.DepthwiseConv2D at 0x1821b42b108>,\n",
              " <keras.layers.normalization.BatchNormalization at 0x1821bca4288>,\n",
              " <keras.layers.advanced_activations.ReLU at 0x1821bd36c08>,\n",
              " <keras.layers.convolutional.Conv2D at 0x1821b722148>,\n",
              " <keras.layers.normalization.BatchNormalization at 0x1821bca8408>,\n",
              " <keras.layers.advanced_activations.ReLU at 0x1821dcbf048>,\n",
              " <keras.layers.convolutional.ZeroPadding2D at 0x1821dcb79c8>,\n",
              " <keras.layers.convolutional.DepthwiseConv2D at 0x1821dcb7848>,\n",
              " <keras.layers.normalization.BatchNormalization at 0x1821bcbde08>,\n",
              " <keras.layers.advanced_activations.ReLU at 0x1821de81cc8>,\n",
              " <keras.layers.convolutional.Conv2D at 0x1821de81988>,\n",
              " <keras.layers.normalization.BatchNormalization at 0x1821df5dd48>,\n",
              " <keras.layers.advanced_activations.ReLU at 0x1821df0cd48>,\n",
              " <keras.layers.convolutional.DepthwiseConv2D at 0x1821df0cf48>,\n",
              " <keras.layers.normalization.BatchNormalization at 0x1821deece88>,\n",
              " <keras.layers.advanced_activations.ReLU at 0x1821dec7b48>,\n",
              " <keras.layers.convolutional.Conv2D at 0x1821b2463c8>,\n",
              " <keras.layers.normalization.BatchNormalization at 0x1821bd58508>,\n",
              " <keras.layers.advanced_activations.ReLU at 0x1821bd43388>,\n",
              " <keras.layers.convolutional.ZeroPadding2D at 0x1821bd433c8>,\n",
              " <keras.layers.convolutional.DepthwiseConv2D at 0x1821bd42388>,\n",
              " <keras.layers.normalization.BatchNormalization at 0x1821b6d92c8>,\n",
              " <keras.layers.advanced_activations.ReLU at 0x1821b6d9648>,\n",
              " <keras.layers.convolutional.Conv2D at 0x1821b656888>,\n",
              " <keras.layers.normalization.BatchNormalization at 0x1821bcc6688>,\n",
              " <keras.layers.advanced_activations.ReLU at 0x1821acfb2c8>,\n",
              " <keras.layers.convolutional.DepthwiseConv2D at 0x1821acfbf88>,\n",
              " <keras.layers.normalization.BatchNormalization at 0x1821f2be048>,\n",
              " <keras.layers.advanced_activations.ReLU at 0x1821f2e9bc8>,\n",
              " <keras.layers.convolutional.Conv2D at 0x1821f2dfb08>,\n",
              " <keras.layers.normalization.BatchNormalization at 0x1821f300408>,\n",
              " <keras.layers.advanced_activations.ReLU at 0x1821f335108>,\n",
              " <keras.layers.convolutional.ZeroPadding2D at 0x1821f335ac8>,\n",
              " <keras.layers.convolutional.DepthwiseConv2D at 0x1821f335b88>,\n",
              " <keras.layers.normalization.BatchNormalization at 0x1821f384a88>,\n",
              " <keras.layers.advanced_activations.ReLU at 0x1821f384c48>,\n",
              " <keras.layers.convolutional.Conv2D at 0x1821f38da48>,\n",
              " <keras.layers.normalization.BatchNormalization at 0x1821f3aafc8>,\n",
              " <keras.layers.advanced_activations.ReLU at 0x1821f3de348>,\n",
              " <keras.layers.convolutional.DepthwiseConv2D at 0x1821f3de908>,\n",
              " <keras.layers.normalization.BatchNormalization at 0x1821f4059c8>,\n",
              " <keras.layers.advanced_activations.ReLU at 0x1821f42d0c8>,\n",
              " <keras.layers.convolutional.Conv2D at 0x1821f42da88>,\n",
              " <keras.layers.normalization.BatchNormalization at 0x1821f44f148>,\n",
              " <keras.layers.advanced_activations.ReLU at 0x1821f4823c8>,\n",
              " <keras.layers.convolutional.DepthwiseConv2D at 0x1821f4828c8>,\n",
              " <keras.layers.normalization.BatchNormalization at 0x1821f4a6988>,\n",
              " <keras.layers.advanced_activations.ReLU at 0x1821f4cf0c8>,\n",
              " <keras.layers.convolutional.Conv2D at 0x1821f4cfa48>,\n",
              " <keras.layers.normalization.BatchNormalization at 0x1821f4f0ec8>,\n",
              " <keras.layers.advanced_activations.ReLU at 0x1821f523288>,\n",
              " <keras.layers.convolutional.DepthwiseConv2D at 0x1821f523888>,\n",
              " <keras.layers.normalization.BatchNormalization at 0x1821f54d948>,\n",
              " <keras.layers.advanced_activations.ReLU at 0x1821f574248>,\n",
              " <keras.layers.convolutional.Conv2D at 0x1821f574a08>,\n",
              " <keras.layers.normalization.BatchNormalization at 0x1821f8b5e88>,\n",
              " <keras.layers.advanced_activations.ReLU at 0x1821f8e7288>,\n",
              " <keras.layers.convolutional.DepthwiseConv2D at 0x1821f8e7888>,\n",
              " <keras.layers.normalization.BatchNormalization at 0x1821f910948>,\n",
              " <keras.layers.advanced_activations.ReLU at 0x1821f936248>,\n",
              " <keras.layers.convolutional.Conv2D at 0x1821f936a08>,\n",
              " <keras.layers.normalization.BatchNormalization at 0x1821f958e88>,\n",
              " <keras.layers.advanced_activations.ReLU at 0x1821f98b288>,\n",
              " <keras.layers.convolutional.DepthwiseConv2D at 0x1821f98b848>,\n",
              " <keras.layers.normalization.BatchNormalization at 0x1821f9b2908>,\n",
              " <keras.layers.advanced_activations.ReLU at 0x1821f9d90c8>,\n",
              " <keras.layers.convolutional.Conv2D at 0x1821f9d9988>,\n",
              " <keras.layers.normalization.BatchNormalization at 0x1821f9f3248>,\n",
              " <keras.layers.advanced_activations.ReLU at 0x1821fa2ff48>,\n",
              " <keras.layers.convolutional.ZeroPadding2D at 0x1821fa2f348>,\n",
              " <keras.layers.convolutional.DepthwiseConv2D at 0x1821fa2f708>,\n",
              " <keras.layers.normalization.BatchNormalization at 0x1821fa7f288>,\n",
              " <keras.layers.advanced_activations.ReLU at 0x1821fa7f548>,\n",
              " <keras.layers.convolutional.Conv2D at 0x1821fa7fa48>,\n",
              " <keras.layers.normalization.BatchNormalization at 0x1821fa96388>,\n",
              " <keras.layers.advanced_activations.ReLU at 0x1821fd11108>,\n",
              " <keras.layers.convolutional.DepthwiseConv2D at 0x1821fd11c48>,\n",
              " <keras.layers.normalization.BatchNormalization at 0x1821fd3f108>,\n",
              " <keras.layers.advanced_activations.ReLU at 0x1821fd6a1c8>,\n",
              " <keras.layers.convolutional.Conv2D at 0x1821fd6a248>,\n",
              " <keras.layers.normalization.BatchNormalization at 0x1821fd854c8>,\n",
              " <keras.layers.advanced_activations.ReLU at 0x1821fdb81c8>]"
            ]
          },
          "execution_count": 52,
          "metadata": {},
          "output_type": "execute_result"
        }
      ],
      "source": [
        "model.layers"
      ]
    },
    {
      "cell_type": "code",
      "execution_count": null,
      "metadata": {
        "id": "iVkiEjtljNF0",
        "outputId": "d761aca8-e68b-4d7e-9b21-09f3dfc15002"
      },
      "outputs": [
        {
          "ename": "AttributeError",
          "evalue": "'Model' object has no attribute 'add'",
          "output_type": "error",
          "traceback": [
            "\u001b[1;31m---------------------------------------------------------------------------\u001b[0m",
            "\u001b[1;31mAttributeError\u001b[0m                            Traceback (most recent call last)",
            "\u001b[1;32m<ipython-input-39-9b45fb74d02e>\u001b[0m in \u001b[0;36m<module>\u001b[1;34m\u001b[0m\n\u001b[1;32m----> 1\u001b[1;33m \u001b[0mmodel\u001b[0m\u001b[1;33m.\u001b[0m\u001b[0madd\u001b[0m\u001b[1;33m(\u001b[0m\u001b[0mDense\u001b[0m\u001b[1;33m(\u001b[0m\u001b[1;36m1024\u001b[0m\u001b[1;33m,\u001b[0m \u001b[0mactivation\u001b[0m\u001b[1;33m=\u001b[0m\u001b[1;34m'relu'\u001b[0m\u001b[1;33m)\u001b[0m\u001b[1;33m)\u001b[0m\u001b[1;33m\u001b[0m\u001b[1;33m\u001b[0m\u001b[0m\n\u001b[0m",
            "\u001b[1;31mAttributeError\u001b[0m: 'Model' object has no attribute 'add'"
          ]
        }
      ],
      "source": [
        "model.add(Dense(1024, activation='relu'))"
      ]
    },
    {
      "cell_type": "code",
      "execution_count": null,
      "metadata": {
        "id": "zI7P6AXcjNF1"
      },
      "outputs": [],
      "source": [
        "from keras.models import Sequential"
      ]
    },
    {
      "cell_type": "code",
      "execution_count": null,
      "metadata": {
        "id": "JIQdB9wmjNF2"
      },
      "outputs": [],
      "source": [
        "from keras.layers import Dense"
      ]
    },
    {
      "cell_type": "code",
      "execution_count": null,
      "metadata": {
        "id": "Q2MLkrQyjNF3",
        "outputId": "2c879718-9214-44cb-8ae0-7d4b4d549b33"
      },
      "outputs": [
        {
          "data": {
            "text/plain": [
              "<tf.Tensor 'conv_pw_13_relu_2/Relu6:0' shape=(None, 7, 7, 1024) dtype=float32>"
            ]
          },
          "execution_count": 55,
          "metadata": {},
          "output_type": "execute_result"
        }
      ],
      "source": [
        "model.output"
      ]
    },
    {
      "cell_type": "code",
      "execution_count": null,
      "metadata": {
        "id": "li5tJhNOjNF4"
      },
      "outputs": [],
      "source": [
        "# model.add(Dense(1024, activation='relu'))"
      ]
    },
    {
      "cell_type": "code",
      "execution_count": null,
      "metadata": {
        "id": "oceHr5-YjNF5"
      },
      "outputs": [],
      "source": [
        "top_model = model.output"
      ]
    },
    {
      "cell_type": "code",
      "execution_count": null,
      "metadata": {
        "id": "LaeeWbtyjNF6",
        "outputId": "433e609e-6381-4c55-dfae-0a67835beaed"
      },
      "outputs": [
        {
          "data": {
            "text/plain": [
              "<tf.Tensor 'conv_pw_13_relu_2/Relu6:0' shape=(None, 7, 7, 1024) dtype=float32>"
            ]
          },
          "execution_count": 60,
          "metadata": {},
          "output_type": "execute_result"
        }
      ],
      "source": [
        "top_model"
      ]
    },
    {
      "cell_type": "code",
      "execution_count": null,
      "metadata": {
        "id": "6km94jnPjNF8"
      },
      "outputs": [],
      "source": [
        "top_model = Dense(1024, activation='relu')(top_model)"
      ]
    },
    {
      "cell_type": "code",
      "execution_count": null,
      "metadata": {
        "id": "kiQn8-dTjNF9"
      },
      "outputs": [],
      "source": [
        "top_model = Dense(512, activation='relu')(top_model)"
      ]
    },
    {
      "cell_type": "code",
      "execution_count": null,
      "metadata": {
        "id": "CDjalZ4ujNF-"
      },
      "outputs": [],
      "source": [
        "top_model = Dense(10, activation='softmax')(top_model)"
      ]
    },
    {
      "cell_type": "code",
      "execution_count": null,
      "metadata": {
        "id": "hD1i99v9jNF_",
        "outputId": "72664b5f-ca46-4b01-bf48-0395a12d16fb"
      },
      "outputs": [
        {
          "data": {
            "text/plain": [
              "<tf.Tensor 'conv_pw_13_relu_2/Relu6:0' shape=(None, 7, 7, 1024) dtype=float32>"
            ]
          },
          "execution_count": 65,
          "metadata": {},
          "output_type": "execute_result"
        }
      ],
      "source": [
        "model.output"
      ]
    },
    {
      "cell_type": "code",
      "execution_count": null,
      "metadata": {
        "id": "iSRJuwmKjNGA"
      },
      "outputs": [],
      "source": [
        "from keras.models import Model"
      ]
    },
    {
      "cell_type": "code",
      "execution_count": null,
      "metadata": {
        "id": "VAq57U5zjNGB",
        "outputId": "a6872e05-4c75-4a53-fbd8-776c06440212"
      },
      "outputs": [
        {
          "data": {
            "text/plain": [
              "<tf.Tensor 'input_3:0' shape=(None, 224, 224, 3) dtype=float32>"
            ]
          },
          "execution_count": 70,
          "metadata": {},
          "output_type": "execute_result"
        }
      ],
      "source": [
        "model.input"
      ]
    },
    {
      "cell_type": "code",
      "execution_count": null,
      "metadata": {
        "id": "ICkt6ZXdjNGD",
        "outputId": "fa22b6e5-f82a-4a02-9f54-cb3d20865bd0"
      },
      "outputs": [
        {
          "data": {
            "text/plain": [
              "<tf.Tensor 'dense_4/truediv:0' shape=(None, 7, 7, 10) dtype=float32>"
            ]
          },
          "execution_count": 72,
          "metadata": {},
          "output_type": "execute_result"
        }
      ],
      "source": [
        "top_model"
      ]
    },
    {
      "cell_type": "code",
      "execution_count": null,
      "metadata": {
        "id": "Ck0NDT1LjNGE"
      },
      "outputs": [],
      "source": [
        "newmodel  = Model(inputs = model.input , outputs = top_model )"
      ]
    },
    {
      "cell_type": "code",
      "execution_count": null,
      "metadata": {
        "id": "OV4VZlepjNGE",
        "outputId": "3d1ed6a3-be8a-415c-b6bb-866eaf768fd9"
      },
      "outputs": [
        {
          "name": "stdout",
          "output_type": "stream",
          "text": [
            "Model: \"model_1\"\n",
            "_________________________________________________________________\n",
            "Layer (type)                 Output Shape              Param #   \n",
            "=================================================================\n",
            "input_3 (InputLayer)         (None, 224, 224, 3)       0         \n",
            "_________________________________________________________________\n",
            "conv1_pad (ZeroPadding2D)    (None, 225, 225, 3)       0         \n",
            "_________________________________________________________________\n",
            "conv1 (Conv2D)               (None, 112, 112, 32)      864       \n",
            "_________________________________________________________________\n",
            "conv1_bn (BatchNormalization (None, 112, 112, 32)      128       \n",
            "_________________________________________________________________\n",
            "conv1_relu (ReLU)            (None, 112, 112, 32)      0         \n",
            "_________________________________________________________________\n",
            "conv_dw_1 (DepthwiseConv2D)  (None, 112, 112, 32)      288       \n",
            "_________________________________________________________________\n",
            "conv_dw_1_bn (BatchNormaliza (None, 112, 112, 32)      128       \n",
            "_________________________________________________________________\n",
            "conv_dw_1_relu (ReLU)        (None, 112, 112, 32)      0         \n",
            "_________________________________________________________________\n",
            "conv_pw_1 (Conv2D)           (None, 112, 112, 64)      2048      \n",
            "_________________________________________________________________\n",
            "conv_pw_1_bn (BatchNormaliza (None, 112, 112, 64)      256       \n",
            "_________________________________________________________________\n",
            "conv_pw_1_relu (ReLU)        (None, 112, 112, 64)      0         \n",
            "_________________________________________________________________\n",
            "conv_pad_2 (ZeroPadding2D)   (None, 113, 113, 64)      0         \n",
            "_________________________________________________________________\n",
            "conv_dw_2 (DepthwiseConv2D)  (None, 56, 56, 64)        576       \n",
            "_________________________________________________________________\n",
            "conv_dw_2_bn (BatchNormaliza (None, 56, 56, 64)        256       \n",
            "_________________________________________________________________\n",
            "conv_dw_2_relu (ReLU)        (None, 56, 56, 64)        0         \n",
            "_________________________________________________________________\n",
            "conv_pw_2 (Conv2D)           (None, 56, 56, 128)       8192      \n",
            "_________________________________________________________________\n",
            "conv_pw_2_bn (BatchNormaliza (None, 56, 56, 128)       512       \n",
            "_________________________________________________________________\n",
            "conv_pw_2_relu (ReLU)        (None, 56, 56, 128)       0         \n",
            "_________________________________________________________________\n",
            "conv_dw_3 (DepthwiseConv2D)  (None, 56, 56, 128)       1152      \n",
            "_________________________________________________________________\n",
            "conv_dw_3_bn (BatchNormaliza (None, 56, 56, 128)       512       \n",
            "_________________________________________________________________\n",
            "conv_dw_3_relu (ReLU)        (None, 56, 56, 128)       0         \n",
            "_________________________________________________________________\n",
            "conv_pw_3 (Conv2D)           (None, 56, 56, 128)       16384     \n",
            "_________________________________________________________________\n",
            "conv_pw_3_bn (BatchNormaliza (None, 56, 56, 128)       512       \n",
            "_________________________________________________________________\n",
            "conv_pw_3_relu (ReLU)        (None, 56, 56, 128)       0         \n",
            "_________________________________________________________________\n",
            "conv_pad_4 (ZeroPadding2D)   (None, 57, 57, 128)       0         \n",
            "_________________________________________________________________\n",
            "conv_dw_4 (DepthwiseConv2D)  (None, 28, 28, 128)       1152      \n",
            "_________________________________________________________________\n",
            "conv_dw_4_bn (BatchNormaliza (None, 28, 28, 128)       512       \n",
            "_________________________________________________________________\n",
            "conv_dw_4_relu (ReLU)        (None, 28, 28, 128)       0         \n",
            "_________________________________________________________________\n",
            "conv_pw_4 (Conv2D)           (None, 28, 28, 256)       32768     \n",
            "_________________________________________________________________\n",
            "conv_pw_4_bn (BatchNormaliza (None, 28, 28, 256)       1024      \n",
            "_________________________________________________________________\n",
            "conv_pw_4_relu (ReLU)        (None, 28, 28, 256)       0         \n",
            "_________________________________________________________________\n",
            "conv_dw_5 (DepthwiseConv2D)  (None, 28, 28, 256)       2304      \n",
            "_________________________________________________________________\n",
            "conv_dw_5_bn (BatchNormaliza (None, 28, 28, 256)       1024      \n",
            "_________________________________________________________________\n",
            "conv_dw_5_relu (ReLU)        (None, 28, 28, 256)       0         \n",
            "_________________________________________________________________\n",
            "conv_pw_5 (Conv2D)           (None, 28, 28, 256)       65536     \n",
            "_________________________________________________________________\n",
            "conv_pw_5_bn (BatchNormaliza (None, 28, 28, 256)       1024      \n",
            "_________________________________________________________________\n",
            "conv_pw_5_relu (ReLU)        (None, 28, 28, 256)       0         \n",
            "_________________________________________________________________\n",
            "conv_pad_6 (ZeroPadding2D)   (None, 29, 29, 256)       0         \n",
            "_________________________________________________________________\n",
            "conv_dw_6 (DepthwiseConv2D)  (None, 14, 14, 256)       2304      \n",
            "_________________________________________________________________\n",
            "conv_dw_6_bn (BatchNormaliza (None, 14, 14, 256)       1024      \n",
            "_________________________________________________________________\n",
            "conv_dw_6_relu (ReLU)        (None, 14, 14, 256)       0         \n",
            "_________________________________________________________________\n",
            "conv_pw_6 (Conv2D)           (None, 14, 14, 512)       131072    \n",
            "_________________________________________________________________\n",
            "conv_pw_6_bn (BatchNormaliza (None, 14, 14, 512)       2048      \n",
            "_________________________________________________________________\n",
            "conv_pw_6_relu (ReLU)        (None, 14, 14, 512)       0         \n",
            "_________________________________________________________________\n",
            "conv_dw_7 (DepthwiseConv2D)  (None, 14, 14, 512)       4608      \n",
            "_________________________________________________________________\n",
            "conv_dw_7_bn (BatchNormaliza (None, 14, 14, 512)       2048      \n",
            "_________________________________________________________________\n",
            "conv_dw_7_relu (ReLU)        (None, 14, 14, 512)       0         \n",
            "_________________________________________________________________\n",
            "conv_pw_7 (Conv2D)           (None, 14, 14, 512)       262144    \n",
            "_________________________________________________________________\n",
            "conv_pw_7_bn (BatchNormaliza (None, 14, 14, 512)       2048      \n",
            "_________________________________________________________________\n",
            "conv_pw_7_relu (ReLU)        (None, 14, 14, 512)       0         \n",
            "_________________________________________________________________\n",
            "conv_dw_8 (DepthwiseConv2D)  (None, 14, 14, 512)       4608      \n",
            "_________________________________________________________________\n",
            "conv_dw_8_bn (BatchNormaliza (None, 14, 14, 512)       2048      \n",
            "_________________________________________________________________\n",
            "conv_dw_8_relu (ReLU)        (None, 14, 14, 512)       0         \n",
            "_________________________________________________________________\n",
            "conv_pw_8 (Conv2D)           (None, 14, 14, 512)       262144    \n",
            "_________________________________________________________________\n",
            "conv_pw_8_bn (BatchNormaliza (None, 14, 14, 512)       2048      \n",
            "_________________________________________________________________\n",
            "conv_pw_8_relu (ReLU)        (None, 14, 14, 512)       0         \n",
            "_________________________________________________________________\n",
            "conv_dw_9 (DepthwiseConv2D)  (None, 14, 14, 512)       4608      \n",
            "_________________________________________________________________\n",
            "conv_dw_9_bn (BatchNormaliza (None, 14, 14, 512)       2048      \n",
            "_________________________________________________________________\n",
            "conv_dw_9_relu (ReLU)        (None, 14, 14, 512)       0         \n",
            "_________________________________________________________________\n",
            "conv_pw_9 (Conv2D)           (None, 14, 14, 512)       262144    \n",
            "_________________________________________________________________\n",
            "conv_pw_9_bn (BatchNormaliza (None, 14, 14, 512)       2048      \n",
            "_________________________________________________________________\n",
            "conv_pw_9_relu (ReLU)        (None, 14, 14, 512)       0         \n",
            "_________________________________________________________________\n",
            "conv_dw_10 (DepthwiseConv2D) (None, 14, 14, 512)       4608      \n",
            "_________________________________________________________________\n",
            "conv_dw_10_bn (BatchNormaliz (None, 14, 14, 512)       2048      \n",
            "_________________________________________________________________\n",
            "conv_dw_10_relu (ReLU)       (None, 14, 14, 512)       0         \n",
            "_________________________________________________________________\n",
            "conv_pw_10 (Conv2D)          (None, 14, 14, 512)       262144    \n",
            "_________________________________________________________________\n",
            "conv_pw_10_bn (BatchNormaliz (None, 14, 14, 512)       2048      \n",
            "_________________________________________________________________\n",
            "conv_pw_10_relu (ReLU)       (None, 14, 14, 512)       0         \n",
            "_________________________________________________________________\n",
            "conv_dw_11 (DepthwiseConv2D) (None, 14, 14, 512)       4608      \n",
            "_________________________________________________________________\n",
            "conv_dw_11_bn (BatchNormaliz (None, 14, 14, 512)       2048      \n",
            "_________________________________________________________________\n",
            "conv_dw_11_relu (ReLU)       (None, 14, 14, 512)       0         \n",
            "_________________________________________________________________\n",
            "conv_pw_11 (Conv2D)          (None, 14, 14, 512)       262144    \n",
            "_________________________________________________________________\n",
            "conv_pw_11_bn (BatchNormaliz (None, 14, 14, 512)       2048      \n",
            "_________________________________________________________________\n",
            "conv_pw_11_relu (ReLU)       (None, 14, 14, 512)       0         \n",
            "_________________________________________________________________\n",
            "conv_pad_12 (ZeroPadding2D)  (None, 15, 15, 512)       0         \n",
            "_________________________________________________________________\n",
            "conv_dw_12 (DepthwiseConv2D) (None, 7, 7, 512)         4608      \n",
            "_________________________________________________________________\n",
            "conv_dw_12_bn (BatchNormaliz (None, 7, 7, 512)         2048      \n",
            "_________________________________________________________________\n",
            "conv_dw_12_relu (ReLU)       (None, 7, 7, 512)         0         \n",
            "_________________________________________________________________\n",
            "conv_pw_12 (Conv2D)          (None, 7, 7, 1024)        524288    \n",
            "_________________________________________________________________\n",
            "conv_pw_12_bn (BatchNormaliz (None, 7, 7, 1024)        4096      \n",
            "_________________________________________________________________\n",
            "conv_pw_12_relu (ReLU)       (None, 7, 7, 1024)        0         \n",
            "_________________________________________________________________\n",
            "conv_dw_13 (DepthwiseConv2D) (None, 7, 7, 1024)        9216      \n",
            "_________________________________________________________________\n",
            "conv_dw_13_bn (BatchNormaliz (None, 7, 7, 1024)        4096      \n",
            "_________________________________________________________________\n",
            "conv_dw_13_relu (ReLU)       (None, 7, 7, 1024)        0         \n",
            "_________________________________________________________________\n",
            "conv_pw_13 (Conv2D)          (None, 7, 7, 1024)        1048576   \n",
            "_________________________________________________________________\n",
            "conv_pw_13_bn (BatchNormaliz (None, 7, 7, 1024)        4096      \n",
            "_________________________________________________________________\n",
            "conv_pw_13_relu (ReLU)       (None, 7, 7, 1024)        0         \n",
            "_________________________________________________________________\n",
            "dense_2 (Dense)              (None, 7, 7, 1024)        1049600   \n",
            "_________________________________________________________________\n",
            "dense_3 (Dense)              (None, 7, 7, 512)         524800    \n",
            "_________________________________________________________________\n",
            "dense_4 (Dense)              (None, 7, 7, 10)          5130      \n",
            "=================================================================\n",
            "Total params: 4,808,394\n",
            "Trainable params: 1,579,530\n",
            "Non-trainable params: 3,228,864\n",
            "_________________________________________________________________\n"
          ]
        }
      ],
      "source": [
        "newmodel.summary()"
      ]
    },
    {
      "cell_type": "code",
      "execution_count": null,
      "metadata": {
        "id": "x6-X54JEjNGF"
      },
      "outputs": [],
      "source": [
        "model.fit(X,y)"
      ]
    }
  ],
  "metadata": {
    "kernelspec": {
      "display_name": "Python 3",
      "language": "python",
      "name": "python3"
    },
    "language_info": {
      "codemirror_mode": {
        "name": "ipython",
        "version": 3
      },
      "file_extension": ".py",
      "mimetype": "text/x-python",
      "name": "python",
      "nbconvert_exporter": "python",
      "pygments_lexer": "ipython3",
      "version": "3.8.8"
    },
    "colab": {
      "name": "transfer learning and fine tuning.ipynb",
      "provenance": []
    }
  },
  "nbformat": 4,
  "nbformat_minor": 0
}