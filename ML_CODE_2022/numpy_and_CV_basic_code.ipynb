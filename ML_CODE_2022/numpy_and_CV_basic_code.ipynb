{
  "cells": [
    {
      "cell_type": "code",
      "execution_count": 1,
      "id": "e4fb3beb",
      "metadata": {
        "id": "e4fb3beb"
      },
      "outputs": [],
      "source": [
        "db = [\"vimal\", \"pop\", \"jack\", \"eric\"]"
      ]
    },
    {
      "cell_type": "code",
      "execution_count": 2,
      "id": "b801102f",
      "metadata": {
        "id": "b801102f",
        "outputId": "af3a2246-bae4-4a8f-85b9-f576a47ae002",
        "colab": {
          "base_uri": "https://localhost:8080/"
        }
      },
      "outputs": [
        {
          "output_type": "execute_result",
          "data": {
            "text/plain": [
              "list"
            ]
          },
          "metadata": {},
          "execution_count": 2
        }
      ],
      "source": [
        "type(db)"
      ]
    },
    {
      "cell_type": "code",
      "execution_count": 3,
      "id": "d80a02eb",
      "metadata": {
        "id": "d80a02eb",
        "outputId": "f568c957-f87e-49fd-ca32-47d71729cce6",
        "colab": {
          "base_uri": "https://localhost:8080/"
        }
      },
      "outputs": [
        {
          "output_type": "execute_result",
          "data": {
            "text/plain": [
              "['pop', 'jack', 'eric']"
            ]
          },
          "metadata": {},
          "execution_count": 3
        }
      ],
      "source": [
        "db[1:4]"
      ]
    },
    {
      "cell_type": "code",
      "execution_count": 4,
      "id": "c282c747",
      "metadata": {
        "id": "c282c747",
        "outputId": "9040180d-bfe6-484c-cb68-0a77f0f00fdd",
        "colab": {
          "base_uri": "https://localhost:8080/"
        }
      },
      "outputs": [
        {
          "output_type": "execute_result",
          "data": {
            "text/plain": [
              "['pop', 'jack', 'eric']"
            ]
          },
          "metadata": {},
          "execution_count": 4
        }
      ],
      "source": [
        "db[1:]"
      ]
    },
    {
      "cell_type": "code",
      "execution_count": 5,
      "id": "866efeb1",
      "metadata": {
        "id": "866efeb1",
        "outputId": "1e1c62ee-49da-46a4-879e-7ef636993b14",
        "colab": {
          "base_uri": "https://localhost:8080/"
        }
      },
      "outputs": [
        {
          "output_type": "execute_result",
          "data": {
            "text/plain": [
              "['vimal', 'pop', 'jack']"
            ]
          },
          "metadata": {},
          "execution_count": 5
        }
      ],
      "source": [
        "db[:3]"
      ]
    },
    {
      "cell_type": "code",
      "execution_count": 6,
      "id": "08f13b10",
      "metadata": {
        "id": "08f13b10",
        "outputId": "67073d0f-c541-434f-f79e-e39dccf8074e",
        "colab": {
          "base_uri": "https://localhost:8080/"
        }
      },
      "outputs": [
        {
          "output_type": "execute_result",
          "data": {
            "text/plain": [
              "['vimal', 'pop', 'jack', 'eric']"
            ]
          },
          "metadata": {},
          "execution_count": 6
        }
      ],
      "source": [
        "db[:]"
      ]
    },
    {
      "cell_type": "code",
      "execution_count": 7,
      "id": "1bd32152",
      "metadata": {
        "id": "1bd32152"
      },
      "outputs": [],
      "source": [
        "db = [ \n",
        "      [ 1,\"vimal\",1111,\"ok\"]  , \n",
        "       [2,\"pop\",2222,\"good\" ], \n",
        "        [3,\"jack\",3333,\"ok\" ],\n",
        "       [ 4, \"eric\", 4444, \"good\" ] \n",
        "     ]"
      ]
    },
    {
      "cell_type": "code",
      "execution_count": 8,
      "id": "401d170f",
      "metadata": {
        "id": "401d170f",
        "outputId": "65f4fbcb-d783-4435-c59b-a9b8b2b5e242",
        "colab": {
          "base_uri": "https://localhost:8080/"
        }
      },
      "outputs": [
        {
          "output_type": "execute_result",
          "data": {
            "text/plain": [
              "4"
            ]
          },
          "metadata": {},
          "execution_count": 8
        }
      ],
      "source": [
        "len(db)"
      ]
    },
    {
      "cell_type": "code",
      "execution_count": 9,
      "id": "735b0ec4",
      "metadata": {
        "id": "735b0ec4",
        "outputId": "09452c5f-daed-4c93-efad-06f7b51ca902",
        "colab": {
          "base_uri": "https://localhost:8080/"
        }
      },
      "outputs": [
        {
          "output_type": "execute_result",
          "data": {
            "text/plain": [
              "[1, 'vimal', 1111, 'ok']"
            ]
          },
          "metadata": {},
          "execution_count": 9
        }
      ],
      "source": [
        "db[0]"
      ]
    },
    {
      "cell_type": "code",
      "execution_count": 10,
      "id": "6c91af63",
      "metadata": {
        "id": "6c91af63",
        "outputId": "3dac8546-b966-46a8-ab1a-f41f21a000b8",
        "colab": {
          "base_uri": "https://localhost:8080/"
        }
      },
      "outputs": [
        {
          "output_type": "execute_result",
          "data": {
            "text/plain": [
              "[[1, 'vimal', 1111, 'ok'],\n",
              " [2, 'pop', 2222, 'good'],\n",
              " [3, 'jack', 3333, 'ok'],\n",
              " [4, 'eric', 4444, 'good']]"
            ]
          },
          "metadata": {},
          "execution_count": 10
        }
      ],
      "source": [
        "db"
      ]
    },
    {
      "cell_type": "code",
      "execution_count": 11,
      "id": "e57ad4f5",
      "metadata": {
        "id": "e57ad4f5",
        "outputId": "2e546edb-c843-4f5f-88a5-6cdeebdf1961",
        "colab": {
          "base_uri": "https://localhost:8080/",
          "height": 35
        }
      },
      "outputs": [
        {
          "output_type": "execute_result",
          "data": {
            "application/vnd.google.colaboratory.intrinsic+json": {
              "type": "string"
            },
            "text/plain": [
              "'good'"
            ]
          },
          "metadata": {},
          "execution_count": 11
        }
      ],
      "source": [
        "db[1][3]"
      ]
    },
    {
      "cell_type": "code",
      "execution_count": 12,
      "id": "ff29780b",
      "metadata": {
        "id": "ff29780b",
        "outputId": "bd891ea6-3596-43c5-9b74-ff20aff5680b",
        "colab": {
          "base_uri": "https://localhost:8080/"
        }
      },
      "outputs": [
        {
          "output_type": "execute_result",
          "data": {
            "text/plain": [
              "[[1, 'vimal', 1111, 'ok'],\n",
              " [2, 'pop', 2222, 'good'],\n",
              " [3, 'jack', 3333, 'ok'],\n",
              " [4, 'eric', 4444, 'good']]"
            ]
          },
          "metadata": {},
          "execution_count": 12
        }
      ],
      "source": [
        "db"
      ]
    },
    {
      "cell_type": "code",
      "execution_count": 13,
      "id": "0ec08bea",
      "metadata": {
        "id": "0ec08bea",
        "outputId": "d1409464-5f26-44a0-dae8-1d73326308ed",
        "colab": {
          "base_uri": "https://localhost:8080/"
        }
      },
      "outputs": [
        {
          "output_type": "execute_result",
          "data": {
            "text/plain": [
              "[[2, 'pop', 2222, 'good'], [3, 'jack', 3333, 'ok'], [4, 'eric', 4444, 'good']]"
            ]
          },
          "metadata": {},
          "execution_count": 13
        }
      ],
      "source": [
        "db[1:4]"
      ]
    },
    {
      "cell_type": "code",
      "execution_count": 14,
      "id": "0eb30e94",
      "metadata": {
        "id": "0eb30e94"
      },
      "outputs": [],
      "source": [
        "import numpy"
      ]
    },
    {
      "cell_type": "code",
      "execution_count": 15,
      "id": "1a80abd6",
      "metadata": {
        "id": "1a80abd6"
      },
      "outputs": [],
      "source": [
        "a = numpy.array(db)"
      ]
    },
    {
      "cell_type": "code",
      "execution_count": 16,
      "id": "aa6258d8",
      "metadata": {
        "id": "aa6258d8",
        "outputId": "40a08b69-c0cf-4c0c-9ae3-33c5eb35ec39",
        "colab": {
          "base_uri": "https://localhost:8080/"
        }
      },
      "outputs": [
        {
          "output_type": "execute_result",
          "data": {
            "text/plain": [
              "numpy.ndarray"
            ]
          },
          "metadata": {},
          "execution_count": 16
        }
      ],
      "source": [
        "type(a)"
      ]
    },
    {
      "cell_type": "code",
      "execution_count": 17,
      "id": "7f67832e",
      "metadata": {
        "id": "7f67832e",
        "outputId": "72eeafa2-025d-4042-9a9f-f88aa8847845",
        "colab": {
          "base_uri": "https://localhost:8080/"
        }
      },
      "outputs": [
        {
          "output_type": "execute_result",
          "data": {
            "text/plain": [
              "(4, 4)"
            ]
          },
          "metadata": {},
          "execution_count": 17
        }
      ],
      "source": [
        "a.shape"
      ]
    },
    {
      "cell_type": "code",
      "execution_count": 18,
      "id": "1bf66a5b",
      "metadata": {
        "id": "1bf66a5b",
        "outputId": "a38f7011-908a-4b49-fb57-8decff5c162d",
        "colab": {
          "base_uri": "https://localhost:8080/"
        }
      },
      "outputs": [
        {
          "output_type": "execute_result",
          "data": {
            "text/plain": [
              "array(['vimal', 'pop', 'jack', 'eric'], dtype='<U21')"
            ]
          },
          "metadata": {},
          "execution_count": 18
        }
      ],
      "source": [
        "a[: , 1]"
      ]
    },
    {
      "cell_type": "code",
      "execution_count": 19,
      "id": "8c4ac044",
      "metadata": {
        "id": "8c4ac044",
        "outputId": "bfc01a8e-dedf-4404-f010-088320a7811f",
        "colab": {
          "base_uri": "https://localhost:8080/"
        }
      },
      "outputs": [
        {
          "output_type": "execute_result",
          "data": {
            "text/plain": [
              "array([['vimal', '1111'],\n",
              "       ['pop', '2222'],\n",
              "       ['jack', '3333'],\n",
              "       ['eric', '4444']], dtype='<U21')"
            ]
          },
          "metadata": {},
          "execution_count": 19
        }
      ],
      "source": [
        "a[: , 1:3]"
      ]
    },
    {
      "cell_type": "code",
      "execution_count": 20,
      "id": "3118dcf1",
      "metadata": {
        "id": "3118dcf1",
        "outputId": "d5cf868b-244c-4414-dd99-f18af1f11514",
        "colab": {
          "base_uri": "https://localhost:8080/"
        }
      },
      "outputs": [
        {
          "output_type": "execute_result",
          "data": {
            "text/plain": [
              "array([['pop', '2222'],\n",
              "       ['jack', '3333']], dtype='<U21')"
            ]
          },
          "metadata": {},
          "execution_count": 20
        }
      ],
      "source": [
        "a[1:3 , 1:3 ]"
      ]
    },
    {
      "cell_type": "code",
      "execution_count": 21,
      "id": "ee209eba",
      "metadata": {
        "id": "ee209eba"
      },
      "outputs": [],
      "source": [
        "\n",
        "# pip install opencv-python\n",
        "import cv2"
      ]
    },
    {
      "cell_type": "code",
      "execution_count": 22,
      "id": "bfb8dc09",
      "metadata": {
        "id": "bfb8dc09"
      },
      "outputs": [],
      "source": [
        "photo = cv2.imread('manoj.jfif')"
      ]
    },
    {
      "cell_type": "code",
      "execution_count": 23,
      "id": "f10a622a",
      "metadata": {
        "id": "f10a622a",
        "outputId": "b4abfe78-56aa-4aa1-a1cf-bb87d3845e05",
        "colab": {
          "base_uri": "https://localhost:8080/"
        }
      },
      "outputs": [
        {
          "output_type": "execute_result",
          "data": {
            "text/plain": [
              "numpy.ndarray"
            ]
          },
          "metadata": {},
          "execution_count": 23
        }
      ],
      "source": [
        "type(photo)"
      ]
    },
    {
      "cell_type": "code",
      "execution_count": 24,
      "id": "bc84ae20",
      "metadata": {
        "id": "bc84ae20",
        "outputId": "4f9ec442-2d62-4b27-f4fd-045b9c3e8bc1",
        "colab": {
          "base_uri": "https://localhost:8080/"
        }
      },
      "outputs": [
        {
          "output_type": "execute_result",
          "data": {
            "text/plain": [
              "(183, 275, 3)"
            ]
          },
          "metadata": {},
          "execution_count": 24
        }
      ],
      "source": [
        "photo.shape"
      ]
    },
    {
      "cell_type": "code",
      "execution_count": 25,
      "id": "7150da26",
      "metadata": {
        "id": "7150da26"
      },
      "outputs": [],
      "source": [
        "# crop image\n",
        "b = photo[10:120 , 30:200 ]"
      ]
    },
    {
      "cell_type": "code",
      "execution_count": 26,
      "id": "e0d67dc0",
      "metadata": {
        "id": "e0d67dc0",
        "outputId": "7431dd38-b8d6-42cc-c9b9-3753c70399b2",
        "colab": {
          "base_uri": "https://localhost:8080/"
        }
      },
      "outputs": [
        {
          "output_type": "execute_result",
          "data": {
            "text/plain": [
              "True"
            ]
          },
          "metadata": {},
          "execution_count": 26
        }
      ],
      "source": [
        "cv2.imwrite(\"my.jpg\" , b)"
      ]
    },
    {
      "cell_type": "code",
      "execution_count": 27,
      "id": "186ca32b",
      "metadata": {
        "id": "186ca32b"
      },
      "outputs": [],
      "source": [
        "cap = cv2.VideoCapture(0)"
      ]
    },
    {
      "cell_type": "code",
      "execution_count": 28,
      "id": "b8e3fc7c",
      "metadata": {
        "id": "b8e3fc7c"
      },
      "outputs": [],
      "source": [
        "# click photo\n",
        "myphoto = cap.read()"
      ]
    },
    {
      "cell_type": "code",
      "execution_count": 29,
      "id": "a337f117",
      "metadata": {
        "id": "a337f117",
        "outputId": "142c29bf-bde6-4efc-9578-24802f4950c1",
        "colab": {
          "base_uri": "https://localhost:8080/"
        }
      },
      "outputs": [
        {
          "output_type": "execute_result",
          "data": {
            "text/plain": [
              "2"
            ]
          },
          "metadata": {},
          "execution_count": 29
        }
      ],
      "source": [
        "len(myphoto)"
      ]
    },
    {
      "cell_type": "code",
      "execution_count": 30,
      "id": "0f99a216",
      "metadata": {
        "id": "0f99a216"
      },
      "outputs": [],
      "source": [
        "ret = myphoto[0]"
      ]
    },
    {
      "cell_type": "code",
      "execution_count": 31,
      "id": "901dc4f9",
      "metadata": {
        "id": "901dc4f9",
        "outputId": "ae2d9320-a3c8-48f3-a8c0-e514a2a3c3bb",
        "colab": {
          "base_uri": "https://localhost:8080/"
        }
      },
      "outputs": [
        {
          "output_type": "execute_result",
          "data": {
            "text/plain": [
              "False"
            ]
          },
          "metadata": {},
          "execution_count": 31
        }
      ],
      "source": [
        "ret"
      ]
    },
    {
      "cell_type": "code",
      "execution_count": 32,
      "id": "a21559ad",
      "metadata": {
        "id": "a21559ad"
      },
      "outputs": [],
      "source": [
        "aphoto = myphoto[1]"
      ]
    },
    {
      "cell_type": "code",
      "execution_count": 33,
      "id": "ebd0c86e",
      "metadata": {
        "id": "ebd0c86e",
        "outputId": "20aebd5f-a5dc-473d-f060-1f1d07c31044",
        "colab": {
          "base_uri": "https://localhost:8080/",
          "height": 170
        }
      },
      "outputs": [
        {
          "output_type": "error",
          "ename": "AttributeError",
          "evalue": "ignored",
          "traceback": [
            "\u001b[0;31m---------------------------------------------------------------------------\u001b[0m",
            "\u001b[0;31mAttributeError\u001b[0m                            Traceback (most recent call last)",
            "\u001b[0;32m<ipython-input-33-3b36e814619b>\u001b[0m in \u001b[0;36m<module>\u001b[0;34m()\u001b[0m\n\u001b[0;32m----> 1\u001b[0;31m \u001b[0maphoto\u001b[0m\u001b[0;34m.\u001b[0m\u001b[0mshape\u001b[0m\u001b[0;34m\u001b[0m\u001b[0;34m\u001b[0m\u001b[0m\n\u001b[0m",
            "\u001b[0;31mAttributeError\u001b[0m: 'NoneType' object has no attribute 'shape'"
          ]
        }
      ],
      "source": [
        "aphoto.shape"
      ]
    },
    {
      "cell_type": "code",
      "execution_count": null,
      "id": "1bbf5c90",
      "metadata": {
        "id": "1bbf5c90",
        "outputId": "4488f832-9fcb-4d0b-c301-791251196b99"
      },
      "outputs": [
        {
          "data": {
            "text/plain": [
              "True"
            ]
          },
          "execution_count": 70,
          "metadata": {},
          "output_type": "execute_result"
        }
      ],
      "source": [
        "cv2.imwrite(\"manoj.png\" , aphoto)"
      ]
    },
    {
      "cell_type": "code",
      "source": [
        "import numpy as np"
      ],
      "metadata": {
        "id": "iuOq0Y45qCUn"
      },
      "id": "iuOq0Y45qCUn",
      "execution_count": 36,
      "outputs": []
    },
    {
      "cell_type": "code",
      "execution_count": 37,
      "id": "3b84e5f2",
      "metadata": {
        "id": "3b84e5f2"
      },
      "outputs": [],
      "source": [
        "a1 = np.array([[1,2],[1,5],[1,10]])"
      ]
    },
    {
      "cell_type": "code",
      "execution_count": 38,
      "id": "f87bb5af",
      "metadata": {
        "id": "f87bb5af",
        "outputId": "8274dc60-6e8e-428e-e818-279a9fec81cc",
        "colab": {
          "base_uri": "https://localhost:8080/"
        }
      },
      "outputs": [
        {
          "output_type": "execute_result",
          "data": {
            "text/plain": [
              "array([[ 1,  2],\n",
              "       [ 1,  5],\n",
              "       [ 1, 10]])"
            ]
          },
          "metadata": {},
          "execution_count": 38
        }
      ],
      "source": [
        "a1"
      ]
    },
    {
      "cell_type": "code",
      "execution_count": 39,
      "id": "15b14c5b",
      "metadata": {
        "id": "15b14c5b",
        "outputId": "e1e8496d-6b9a-4065-e299-92716158f212",
        "colab": {
          "base_uri": "https://localhost:8080/"
        }
      },
      "outputs": [
        {
          "output_type": "execute_result",
          "data": {
            "text/plain": [
              "(3, 2)"
            ]
          },
          "metadata": {},
          "execution_count": 39
        }
      ],
      "source": [
        "a1.shape"
      ]
    },
    {
      "cell_type": "code",
      "execution_count": 40,
      "id": "892f4870",
      "metadata": {
        "id": "892f4870"
      },
      "outputs": [],
      "source": [
        "b1 = numpy.array([ [3,3], [4,4], [5,5]])"
      ]
    },
    {
      "cell_type": "code",
      "execution_count": null,
      "id": "c3859930",
      "metadata": {
        "id": "c3859930",
        "outputId": "75524b63-1154-4fc8-9376-297e3f9ce126"
      },
      "outputs": [
        {
          "data": {
            "text/plain": [
              "array([[3, 3],\n",
              "       [4, 4],\n",
              "       [5, 5]])"
            ]
          },
          "execution_count": 75,
          "metadata": {},
          "output_type": "execute_result"
        }
      ],
      "source": [
        "b1"
      ]
    },
    {
      "cell_type": "code",
      "execution_count": 41,
      "id": "024768c5",
      "metadata": {
        "id": "024768c5",
        "outputId": "fb353e88-274c-4a69-81d5-e9681ea024a3",
        "colab": {
          "base_uri": "https://localhost:8080/"
        }
      },
      "outputs": [
        {
          "output_type": "execute_result",
          "data": {
            "text/plain": [
              "(3, 2)"
            ]
          },
          "metadata": {},
          "execution_count": 41
        }
      ],
      "source": [
        "b1.shape"
      ]
    },
    {
      "cell_type": "code",
      "execution_count": null,
      "id": "ab3e68b8",
      "metadata": {
        "id": "ab3e68b8",
        "outputId": "8c097e91-e958-41d5-8d47-7943ef05470a"
      },
      "outputs": [
        {
          "data": {
            "text/plain": [
              "array([[1, 2],\n",
              "       [3, 4],\n",
              "       [5, 6]])"
            ]
          },
          "execution_count": 77,
          "metadata": {},
          "output_type": "execute_result"
        }
      ],
      "source": [
        "a1"
      ]
    },
    {
      "cell_type": "code",
      "execution_count": null,
      "id": "5b7e8198",
      "metadata": {
        "id": "5b7e8198",
        "outputId": "a23aa5e4-95f7-45fd-a399-75466b916619"
      },
      "outputs": [
        {
          "data": {
            "text/plain": [
              "array([[3, 3],\n",
              "       [4, 4],\n",
              "       [5, 5]])"
            ]
          },
          "execution_count": 78,
          "metadata": {},
          "output_type": "execute_result"
        }
      ],
      "source": [
        "b1"
      ]
    },
    {
      "cell_type": "code",
      "execution_count": 42,
      "id": "2da42bbe",
      "metadata": {
        "id": "2da42bbe"
      },
      "outputs": [],
      "source": [
        "c1 = numpy.vstack( (a1, b1)  )"
      ]
    },
    {
      "cell_type": "code",
      "execution_count": 43,
      "id": "ae61ff93",
      "metadata": {
        "id": "ae61ff93",
        "outputId": "a654fdb8-3bf7-4398-ef24-a00dedf5465b",
        "colab": {
          "base_uri": "https://localhost:8080/"
        }
      },
      "outputs": [
        {
          "output_type": "execute_result",
          "data": {
            "text/plain": [
              "(6, 2)"
            ]
          },
          "metadata": {},
          "execution_count": 43
        }
      ],
      "source": [
        "c1.shape"
      ]
    },
    {
      "cell_type": "code",
      "execution_count": 44,
      "id": "d7d4cba9",
      "metadata": {
        "id": "d7d4cba9"
      },
      "outputs": [],
      "source": [
        "d1 = numpy.hstack( (a1 , b1))"
      ]
    },
    {
      "cell_type": "code",
      "execution_count": 45,
      "id": "df0ba457",
      "metadata": {
        "id": "df0ba457",
        "outputId": "56104952-a50c-4a9f-8044-72cc08061d4a",
        "colab": {
          "base_uri": "https://localhost:8080/"
        }
      },
      "outputs": [
        {
          "output_type": "execute_result",
          "data": {
            "text/plain": [
              "(3, 4)"
            ]
          },
          "metadata": {},
          "execution_count": 45
        }
      ],
      "source": [
        "d1.shape"
      ]
    },
    {
      "cell_type": "code",
      "execution_count": 46,
      "id": "684ef9e2",
      "metadata": {
        "id": "684ef9e2",
        "outputId": "07de7e95-5a72-4a5e-e86e-039264357d9b",
        "colab": {
          "base_uri": "https://localhost:8080/"
        }
      },
      "outputs": [
        {
          "output_type": "execute_result",
          "data": {
            "text/plain": [
              "array([[ 1,  2,  3,  3],\n",
              "       [ 1,  5,  4,  4],\n",
              "       [ 1, 10,  5,  5]])"
            ]
          },
          "metadata": {},
          "execution_count": 46
        }
      ],
      "source": [
        "d1"
      ]
    },
    {
      "cell_type": "code",
      "execution_count": null,
      "id": "b21a8961",
      "metadata": {
        "id": "b21a8961",
        "outputId": "61053001-83d2-470f-f314-414ec1b73061"
      },
      "outputs": [
        {
          "data": {
            "text/plain": [
              "(3, 2)"
            ]
          },
          "execution_count": 88,
          "metadata": {},
          "output_type": "execute_result"
        }
      ],
      "source": [
        "a1.shape"
      ]
    },
    {
      "cell_type": "code",
      "execution_count": 48,
      "id": "c091bc79",
      "metadata": {
        "id": "c091bc79",
        "outputId": "649972a8-2751-4995-c823-fbb748839383",
        "colab": {
          "base_uri": "https://localhost:8080/"
        }
      },
      "outputs": [
        {
          "output_type": "execute_result",
          "data": {
            "text/plain": [
              "array([[ 1,  2,  1,  5,  1, 10]])"
            ]
          },
          "metadata": {},
          "execution_count": 48
        }
      ],
      "source": [
        "a1.reshape(1,6)"
      ]
    },
    {
      "cell_type": "code",
      "execution_count": 47,
      "id": "f0d01424",
      "metadata": {
        "id": "f0d01424"
      },
      "outputs": [],
      "source": [
        "e1 = numpy.array([1,2,3,4,5,6])"
      ]
    },
    {
      "cell_type": "code",
      "execution_count": null,
      "id": "cad5e1bf",
      "metadata": {
        "id": "cad5e1bf",
        "outputId": "eea72891-2e25-4f30-eac8-b2ad7918534a"
      },
      "outputs": [
        {
          "data": {
            "text/plain": [
              "(6,)"
            ]
          },
          "execution_count": 96,
          "metadata": {},
          "output_type": "execute_result"
        }
      ],
      "source": [
        "e1.shape"
      ]
    },
    {
      "cell_type": "code",
      "execution_count": null,
      "id": "7103a137",
      "metadata": {
        "id": "7103a137",
        "outputId": "b93a7959-f991-4345-8412-531352a64a00"
      },
      "outputs": [
        {
          "data": {
            "text/plain": [
              "array([1, 2, 3, 4, 5, 6])"
            ]
          },
          "execution_count": 97,
          "metadata": {},
          "output_type": "execute_result"
        }
      ],
      "source": [
        "e1"
      ]
    },
    {
      "cell_type": "code",
      "execution_count": null,
      "id": "d7a6d167",
      "metadata": {
        "id": "d7a6d167"
      },
      "outputs": [],
      "source": [
        "f1 = e1.reshape(-1 , 1)"
      ]
    },
    {
      "cell_type": "code",
      "execution_count": null,
      "id": "600fdebf",
      "metadata": {
        "id": "600fdebf",
        "outputId": "93867e90-5099-4688-b8a3-d79f43e9e3d1"
      },
      "outputs": [
        {
          "data": {
            "text/plain": [
              "(6, 1)"
            ]
          },
          "execution_count": 100,
          "metadata": {},
          "output_type": "execute_result"
        }
      ],
      "source": [
        "f1.shape"
      ]
    },
    {
      "cell_type": "code",
      "execution_count": 49,
      "id": "e8379fc2",
      "metadata": {
        "id": "e8379fc2",
        "outputId": "acdbd24f-f105-4f9f-e3ab-9cbc5c1db21e",
        "colab": {
          "base_uri": "https://localhost:8080/"
        }
      },
      "outputs": [
        {
          "output_type": "execute_result",
          "data": {
            "text/plain": [
              "array([[ 1],\n",
              "       [ 2],\n",
              "       [ 1],\n",
              "       [ 5],\n",
              "       [ 1],\n",
              "       [10]])"
            ]
          },
          "metadata": {},
          "execution_count": 49
        }
      ],
      "source": [
        "a1.reshape(-1,1)"
      ]
    },
    {
      "cell_type": "code",
      "source": [
        "a1"
      ],
      "metadata": {
        "id": "yiPV2aOJqRUc",
        "outputId": "6bb71cd3-95e5-4113-b857-10f55c244026",
        "colab": {
          "base_uri": "https://localhost:8080/"
        }
      },
      "id": "yiPV2aOJqRUc",
      "execution_count": 50,
      "outputs": [
        {
          "output_type": "execute_result",
          "data": {
            "text/plain": [
              "array([[ 1,  2],\n",
              "       [ 1,  5],\n",
              "       [ 1, 10]])"
            ]
          },
          "metadata": {},
          "execution_count": 50
        }
      ]
    },
    {
      "cell_type": "code",
      "source": [
        ""
      ],
      "metadata": {
        "id": "WJz1im1VqSMM"
      },
      "id": "WJz1im1VqSMM",
      "execution_count": null,
      "outputs": []
    }
  ],
  "metadata": {
    "kernelspec": {
      "display_name": "Python 3",
      "language": "python",
      "name": "python3"
    },
    "language_info": {
      "codemirror_mode": {
        "name": "ipython",
        "version": 3
      },
      "file_extension": ".py",
      "mimetype": "text/x-python",
      "name": "python",
      "nbconvert_exporter": "python",
      "pygments_lexer": "ipython3",
      "version": "3.8.8"
    },
    "colab": {
      "name": "numpy and CV basic code.ipynb",
      "provenance": []
    }
  },
  "nbformat": 4,
  "nbformat_minor": 5
}