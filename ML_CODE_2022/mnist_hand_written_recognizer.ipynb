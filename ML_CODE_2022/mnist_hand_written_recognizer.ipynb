{
  "cells": [
    {
      "cell_type": "code",
      "execution_count": 1,
      "id": "d66ce3fc",
      "metadata": {
        "id": "d66ce3fc"
      },
      "outputs": [],
      "source": [
        "from keras.datasets import mnist"
      ]
    },
    {
      "cell_type": "code",
      "execution_count": 2,
      "id": "0e355a23",
      "metadata": {
        "id": "0e355a23",
        "outputId": "c3187881-e968-49b3-fbbf-553c2b517c84",
        "colab": {
          "base_uri": "https://localhost:8080/"
        }
      },
      "outputs": [
        {
          "output_type": "stream",
          "name": "stdout",
          "text": [
            "Downloading data from https://storage.googleapis.com/tensorflow/tf-keras-datasets/mnist.npz\n",
            "11493376/11490434 [==============================] - 0s 0us/step\n",
            "11501568/11490434 [==============================] - 0s 0us/step\n"
          ]
        }
      ],
      "source": [
        "dataset = mnist.load_data('mnist.db')"
      ]
    },
    {
      "cell_type": "code",
      "execution_count": 3,
      "id": "dd94b77d",
      "metadata": {
        "id": "dd94b77d",
        "outputId": "2cb7a18a-6b95-4f46-9563-0b9a10531e0f",
        "colab": {
          "base_uri": "https://localhost:8080/"
        }
      },
      "outputs": [
        {
          "output_type": "execute_result",
          "data": {
            "text/plain": [
              "2"
            ]
          },
          "metadata": {},
          "execution_count": 3
        }
      ],
      "source": [
        "len(dataset)"
      ]
    },
    {
      "cell_type": "code",
      "execution_count": 4,
      "id": "49fde890",
      "metadata": {
        "id": "49fde890"
      },
      "outputs": [],
      "source": [
        "train , test = dataset"
      ]
    },
    {
      "cell_type": "code",
      "execution_count": 5,
      "id": "18c4ebe3",
      "metadata": {
        "id": "18c4ebe3",
        "outputId": "440b1348-7d7f-4c94-94c8-377480c5dd1d",
        "colab": {
          "base_uri": "https://localhost:8080/"
        }
      },
      "outputs": [
        {
          "output_type": "execute_result",
          "data": {
            "text/plain": [
              "2"
            ]
          },
          "metadata": {},
          "execution_count": 5
        }
      ],
      "source": [
        "len(train)"
      ]
    },
    {
      "cell_type": "code",
      "execution_count": 6,
      "id": "3e61ce8d",
      "metadata": {
        "id": "3e61ce8d"
      },
      "outputs": [],
      "source": [
        "X_train , y_train = train"
      ]
    },
    {
      "cell_type": "code",
      "execution_count": 7,
      "id": "6ea8cb19",
      "metadata": {
        "id": "6ea8cb19"
      },
      "outputs": [],
      "source": [
        "X_test, y_test = test"
      ]
    },
    {
      "cell_type": "code",
      "execution_count": 8,
      "id": "87ba83a6",
      "metadata": {
        "id": "87ba83a6",
        "outputId": "8fa0d0f5-af3e-405f-88d7-21661790f3c3",
        "colab": {
          "base_uri": "https://localhost:8080/"
        }
      },
      "outputs": [
        {
          "output_type": "execute_result",
          "data": {
            "text/plain": [
              "60000"
            ]
          },
          "metadata": {},
          "execution_count": 8
        }
      ],
      "source": [
        "len(X_train)"
      ]
    },
    {
      "cell_type": "code",
      "execution_count": 9,
      "id": "3c8ba963",
      "metadata": {
        "id": "3c8ba963",
        "outputId": "5f255059-c55d-4e64-97aa-8093e385f514",
        "colab": {
          "base_uri": "https://localhost:8080/"
        }
      },
      "outputs": [
        {
          "output_type": "execute_result",
          "data": {
            "text/plain": [
              "10000"
            ]
          },
          "metadata": {},
          "execution_count": 9
        }
      ],
      "source": [
        "len(X_test)"
      ]
    },
    {
      "cell_type": "code",
      "execution_count": 10,
      "id": "b8f8258c",
      "metadata": {
        "id": "b8f8258c",
        "outputId": "5d494985-01c3-45b5-bb82-8dc2e70680c5",
        "colab": {
          "base_uri": "https://localhost:8080/"
        }
      },
      "outputs": [
        {
          "output_type": "execute_result",
          "data": {
            "text/plain": [
              "(28, 28)"
            ]
          },
          "metadata": {},
          "execution_count": 10
        }
      ],
      "source": [
        "X_train[0].shape"
      ]
    },
    {
      "cell_type": "code",
      "execution_count": 11,
      "id": "1542113c",
      "metadata": {
        "id": "1542113c",
        "outputId": "779ea8fb-27a6-4d23-937c-26d92ef670bc",
        "colab": {
          "base_uri": "https://localhost:8080/"
        }
      },
      "outputs": [
        {
          "output_type": "execute_result",
          "data": {
            "text/plain": [
              "(60000, 28, 28)"
            ]
          },
          "metadata": {},
          "execution_count": 11
        }
      ],
      "source": [
        "X_train.shape"
      ]
    },
    {
      "cell_type": "code",
      "execution_count": 12,
      "id": "9787b2cc",
      "metadata": {
        "id": "9787b2cc"
      },
      "outputs": [],
      "source": [
        "import matplotlib.pyplot as plt"
      ]
    },
    {
      "cell_type": "code",
      "execution_count": 13,
      "id": "b7d16956",
      "metadata": {
        "id": "b7d16956"
      },
      "outputs": [],
      "source": [
        "img = X_train[2]"
      ]
    },
    {
      "cell_type": "code",
      "execution_count": 14,
      "id": "f9203492",
      "metadata": {
        "id": "f9203492",
        "outputId": "11d1d20a-9feb-4d82-fa88-6c18f901514d",
        "colab": {
          "base_uri": "https://localhost:8080/",
          "height": 283
        }
      },
      "outputs": [
        {
          "output_type": "execute_result",
          "data": {
            "text/plain": [
              "<matplotlib.image.AxesImage at 0x7fc554709a90>"
            ]
          },
          "metadata": {},
          "execution_count": 14
        },
        {
          "output_type": "display_data",
          "data": {
            "image/png": "[encoded data removed]",
            "text/plain": [
              "<Figure size 432x288 with 1 Axes>"
            ]
          },
          "metadata": {
            "needs_background": "light"
          }
        }
      ],
      "source": [
        "img = X_train[2]\n",
        "plt.imshow(img , cmap='gray')"
      ]
    },
    {
      "cell_type": "code",
      "execution_count": 15,
      "id": "df5606e0",
      "metadata": {
        "id": "df5606e0",
        "outputId": "845183e1-1db1-4492-f45a-8bb96040e357",
        "colab": {
          "base_uri": "https://localhost:8080/"
        }
      },
      "outputs": [
        {
          "output_type": "execute_result",
          "data": {
            "text/plain": [
              "array([5, 0, 4, ..., 5, 6, 8], dtype=uint8)"
            ]
          },
          "metadata": {},
          "execution_count": 15
        }
      ],
      "source": [
        "y_train"
      ]
    },
    {
      "cell_type": "code",
      "execution_count": 16,
      "id": "c5e1c650",
      "metadata": {
        "id": "c5e1c650",
        "outputId": "cca7bb55-7791-4aa3-b4bd-2c7984acb93c",
        "colab": {
          "base_uri": "https://localhost:8080/"
        }
      },
      "outputs": [
        {
          "output_type": "execute_result",
          "data": {
            "text/plain": [
              "(28, 28)"
            ]
          },
          "metadata": {},
          "execution_count": 16
        }
      ],
      "source": [
        "img.shape"
      ]
    },
    {
      "cell_type": "code",
      "execution_count": 17,
      "id": "9d718d37",
      "metadata": {
        "id": "9d718d37",
        "outputId": "bc0a5854-cbef-44a9-93ef-1ea3dd65cad2",
        "colab": {
          "base_uri": "https://localhost:8080/"
        }
      },
      "outputs": [
        {
          "output_type": "execute_result",
          "data": {
            "text/plain": [
              "numpy.ndarray"
            ]
          },
          "metadata": {},
          "execution_count": 17
        }
      ],
      "source": [
        "type(img)"
      ]
    },
    {
      "cell_type": "code",
      "execution_count": 18,
      "id": "1972a892",
      "metadata": {
        "id": "1972a892"
      },
      "outputs": [],
      "source": [
        "img_1d = img.reshape(28 * 28)"
      ]
    },
    {
      "cell_type": "code",
      "execution_count": 19,
      "id": "1f70f093",
      "metadata": {
        "id": "1f70f093",
        "outputId": "e242816d-acfe-41c2-a9c2-68f868f59eb4",
        "colab": {
          "base_uri": "https://localhost:8080/"
        }
      },
      "outputs": [
        {
          "output_type": "execute_result",
          "data": {
            "text/plain": [
              "(784,)"
            ]
          },
          "metadata": {},
          "execution_count": 19
        }
      ],
      "source": [
        "img_1d.shape"
      ]
    },
    {
      "cell_type": "code",
      "execution_count": 20,
      "id": "4ee4cc27",
      "metadata": {
        "id": "4ee4cc27",
        "outputId": "3b013274-b30c-4380-8905-33f9d2e1f83b",
        "colab": {
          "base_uri": "https://localhost:8080/"
        }
      },
      "outputs": [
        {
          "output_type": "execute_result",
          "data": {
            "text/plain": [
              "array([  0,   0,   0,   0,   0,   0,   0,   0,   0,   0,   0,   0,   0,\n",
              "         0,   0,   0,   0,   0,   0,   0,   0,   0,   0,   0,   0,   0,\n",
              "         0,   0,   0,   0,   0,   0,   0,   0,   0,   0,   0,   0,   0,\n",
              "         0,   0,   0,   0,   0,   0,   0,   0,   0,   0,   0,   0,   0,\n",
              "         0,   0,   0,   0,   0,   0,   0,   0,   0,   0,   0,   0,   0,\n",
              "         0,   0,   0,   0,   0,   0,   0,   0,   0,   0,   0,   0,   0,\n",
              "         0,   0,   0,   0,   0,   0,   0,   0,   0,   0,   0,   0,   0,\n",
              "         0,   0,   0,   0,   0,   0,   0,   0,   0,   0,   0,   0,   0,\n",
              "         0,   0,   0,   0,   0,   0,   0,   0,   0,   0,   0,   0,   0,\n",
              "         0,   0,   0,   0,   0,   0,   0,   0,   0,   0,   0,   0,   0,\n",
              "         0,   0,   0,   0,   0,   0,   0,   0,   0,   0,   0,   0,   0,\n",
              "         0,   0,   0,   0,   0,   0,   0,   0,   0,   0,   0,   0,   0,\n",
              "         0,   0,   0,   0,  67, 232,  39,   0,   0,   0,   0,   0,   0,\n",
              "         0,   0,   0,  62,  81,   0,   0,   0,   0,   0,   0,   0,   0,\n",
              "         0,   0,   0,   0,   0,   0, 120, 180,  39,   0,   0,   0,   0,\n",
              "         0,   0,   0,   0,   0, 126, 163,   0,   0,   0,   0,   0,   0,\n",
              "         0,   0,   0,   0,   0,   0,   0,   2, 153, 210,  40,   0,   0,\n",
              "         0,   0,   0,   0,   0,   0,   0, 220, 163,   0,   0,   0,   0,\n",
              "         0,   0,   0,   0,   0,   0,   0,   0,   0,  27, 254, 162,   0,\n",
              "         0,   0,   0,   0,   0,   0,   0,   0,   0, 222, 163,   0,   0,\n",
              "         0,   0,   0,   0,   0,   0,   0,   0,   0,   0,   0, 183, 254,\n",
              "       125,   0,   0,   0,   0,   0,   0,   0,   0,   0,  46, 245, 163,\n",
              "         0,   0,   0,   0,   0,   0,   0,   0,   0,   0,   0,   0,   0,\n",
              "       198, 254,  56,   0,   0,   0,   0,   0,   0,   0,   0,   0, 120,\n",
              "       254, 163,   0,   0,   0,   0,   0,   0,   0,   0,   0,   0,   0,\n",
              "         0,  23, 231, 254,  29,   0,   0,   0,   0,   0,   0,   0,   0,\n",
              "         0, 159, 254, 120,   0,   0,   0,   0,   0,   0,   0,   0,   0,\n",
              "         0,   0,   0, 163, 254, 216,  16,   0,   0,   0,   0,   0,   0,\n",
              "         0,   0,   0, 159, 254,  67,   0,   0,   0,   0,   0,   0,   0,\n",
              "         0,   0,  14,  86, 178, 248, 254,  91,   0,   0,   0,   0,   0,\n",
              "         0,   0,   0,   0,   0, 159, 254,  85,   0,   0,   0,  47,  49,\n",
              "       116, 144, 150, 241, 243, 234, 179, 241, 252,  40,   0,   0,   0,\n",
              "         0,   0,   0,   0,   0,   0,   0, 150, 253, 237, 207, 207, 207,\n",
              "       253, 254, 250, 240, 198, 143,  91,  28,   5, 233, 250,   0,   0,\n",
              "         0,   0,   0,   0,   0,   0,   0,   0,   0,   0, 119, 177, 177,\n",
              "       177, 177, 177,  98,  56,   0,   0,   0,   0,   0, 102, 254, 220,\n",
              "         0,   0,   0,   0,   0,   0,   0,   0,   0,   0,   0,   0,   0,\n",
              "         0,   0,   0,   0,   0,   0,   0,   0,   0,   0,   0,   0, 169,\n",
              "       254, 137,   0,   0,   0,   0,   0,   0,   0,   0,   0,   0,   0,\n",
              "         0,   0,   0,   0,   0,   0,   0,   0,   0,   0,   0,   0,   0,\n",
              "         0, 169, 254,  57,   0,   0,   0,   0,   0,   0,   0,   0,   0,\n",
              "         0,   0,   0,   0,   0,   0,   0,   0,   0,   0,   0,   0,   0,\n",
              "         0,   0,   0, 169, 254,  57,   0,   0,   0,   0,   0,   0,   0,\n",
              "         0,   0,   0,   0,   0,   0,   0,   0,   0,   0,   0,   0,   0,\n",
              "         0,   0,   0,   0,   0, 169, 255,  94,   0,   0,   0,   0,   0,\n",
              "         0,   0,   0,   0,   0,   0,   0,   0,   0,   0,   0,   0,   0,\n",
              "         0,   0,   0,   0,   0,   0,   0, 169, 254,  96,   0,   0,   0,\n",
              "         0,   0,   0,   0,   0,   0,   0,   0,   0,   0,   0,   0,   0,\n",
              "         0,   0,   0,   0,   0,   0,   0,   0,   0, 169, 254, 153,   0,\n",
              "         0,   0,   0,   0,   0,   0,   0,   0,   0,   0,   0,   0,   0,\n",
              "         0,   0,   0,   0,   0,   0,   0,   0,   0,   0,   0, 169, 255,\n",
              "       153,   0,   0,   0,   0,   0,   0,   0,   0,   0,   0,   0,   0,\n",
              "         0,   0,   0,   0,   0,   0,   0,   0,   0,   0,   0,   0,   0,\n",
              "        96, 254, 153,   0,   0,   0,   0,   0,   0,   0,   0,   0,   0,\n",
              "         0,   0,   0,   0,   0,   0,   0,   0,   0,   0,   0,   0,   0,\n",
              "         0,   0,   0,   0,   0,   0,   0,   0,   0,   0,   0,   0,   0,\n",
              "         0,   0,   0,   0,   0,   0,   0,   0,   0,   0,   0,   0,   0,\n",
              "         0,   0,   0,   0,   0,   0,   0,   0,   0,   0,   0,   0,   0,\n",
              "         0,   0,   0,   0,   0,   0,   0,   0,   0,   0,   0,   0,   0,\n",
              "         0,   0,   0,   0,   0,   0,   0,   0,   0,   0,   0,   0,   0,\n",
              "         0,   0,   0,   0], dtype=uint8)"
            ]
          },
          "metadata": {},
          "execution_count": 20
        }
      ],
      "source": [
        "\n",
        "img_1d"
      ]
    },
    {
      "cell_type": "code",
      "execution_count": 21,
      "id": "81caf0c6",
      "metadata": {
        "id": "81caf0c6",
        "outputId": "20040dc4-d207-4f49-f937-08b51357487e",
        "colab": {
          "base_uri": "https://localhost:8080/"
        }
      },
      "outputs": [
        {
          "output_type": "execute_result",
          "data": {
            "text/plain": [
              "(60000, 28, 28)"
            ]
          },
          "metadata": {},
          "execution_count": 21
        }
      ],
      "source": [
        "\n",
        "\n",
        "X_train.shape"
      ]
    },
    {
      "cell_type": "code",
      "execution_count": 22,
      "id": "260a46cf",
      "metadata": {
        "id": "260a46cf"
      },
      "outputs": [],
      "source": [
        "\n",
        "X_train_1d = X_train.reshape(-1,   28*28)"
      ]
    },
    {
      "cell_type": "code",
      "execution_count": 23,
      "id": "4b3b4211",
      "metadata": {
        "id": "4b3b4211",
        "outputId": "ee507b33-ea8e-426e-ce60-bd96fbf36642",
        "colab": {
          "base_uri": "https://localhost:8080/"
        }
      },
      "outputs": [
        {
          "output_type": "execute_result",
          "data": {
            "text/plain": [
              "array([[0, 0, 0, ..., 0, 0, 0],\n",
              "       [0, 0, 0, ..., 0, 0, 0],\n",
              "       [0, 0, 0, ..., 0, 0, 0],\n",
              "       ...,\n",
              "       [0, 0, 0, ..., 0, 0, 0],\n",
              "       [0, 0, 0, ..., 0, 0, 0],\n",
              "       [0, 0, 0, ..., 0, 0, 0]], dtype=uint8)"
            ]
          },
          "metadata": {},
          "execution_count": 23
        }
      ],
      "source": [
        "X_train_1d"
      ]
    },
    {
      "cell_type": "code",
      "execution_count": 24,
      "id": "aed5a6f9",
      "metadata": {
        "id": "aed5a6f9"
      },
      "outputs": [],
      "source": [
        "X_test_1d = X_test.reshape(-1,   28*28)"
      ]
    },
    {
      "cell_type": "code",
      "execution_count": 25,
      "id": "0ae3c505",
      "metadata": {
        "id": "0ae3c505",
        "outputId": "5bf5d8ea-c9b4-4c33-8a9e-d0f74b6055e8",
        "colab": {
          "base_uri": "https://localhost:8080/"
        }
      },
      "outputs": [
        {
          "output_type": "execute_result",
          "data": {
            "text/plain": [
              "(10000, 784)"
            ]
          },
          "metadata": {},
          "execution_count": 25
        }
      ],
      "source": [
        "X_test_1d.shape"
      ]
    },
    {
      "cell_type": "code",
      "execution_count": 26,
      "id": "df0f43fc",
      "metadata": {
        "id": "df0f43fc",
        "outputId": "3db8f88f-c3cb-41b4-dedb-b90b50939f63",
        "colab": {
          "base_uri": "https://localhost:8080/"
        }
      },
      "outputs": [
        {
          "output_type": "execute_result",
          "data": {
            "text/plain": [
              "array([[0, 0, 0, ..., 0, 0, 0],\n",
              "       [0, 0, 0, ..., 0, 0, 0],\n",
              "       [0, 0, 0, ..., 0, 0, 0],\n",
              "       ...,\n",
              "       [0, 0, 0, ..., 0, 0, 0],\n",
              "       [0, 0, 0, ..., 0, 0, 0],\n",
              "       [0, 0, 0, ..., 0, 0, 0]], dtype=uint8)"
            ]
          },
          "metadata": {},
          "execution_count": 26
        }
      ],
      "source": [
        "X_train_1d"
      ]
    },
    {
      "cell_type": "code",
      "execution_count": 27,
      "id": "72e4dc0c",
      "metadata": {
        "id": "72e4dc0c"
      },
      "outputs": [],
      "source": [
        "X_train_1d_f = X_train_1d.astype('float32')"
      ]
    },
    {
      "cell_type": "code",
      "execution_count": 28,
      "id": "ab6724be",
      "metadata": {
        "id": "ab6724be",
        "outputId": "9f2817be-4a70-4747-f04e-1432a53fe593",
        "colab": {
          "base_uri": "https://localhost:8080/"
        }
      },
      "outputs": [
        {
          "output_type": "execute_result",
          "data": {
            "text/plain": [
              "array([[0., 0., 0., ..., 0., 0., 0.],\n",
              "       [0., 0., 0., ..., 0., 0., 0.],\n",
              "       [0., 0., 0., ..., 0., 0., 0.],\n",
              "       ...,\n",
              "       [0., 0., 0., ..., 0., 0., 0.],\n",
              "       [0., 0., 0., ..., 0., 0., 0.],\n",
              "       [0., 0., 0., ..., 0., 0., 0.]], dtype=float32)"
            ]
          },
          "metadata": {},
          "execution_count": 28
        }
      ],
      "source": [
        "X_train_1d_f"
      ]
    },
    {
      "cell_type": "code",
      "execution_count": 29,
      "id": "7c3cd621",
      "metadata": {
        "id": "7c3cd621"
      },
      "outputs": [],
      "source": [
        "X_test_1d_f = X_test_1d.astype('float32')"
      ]
    },
    {
      "cell_type": "code",
      "execution_count": 30,
      "id": "3fc4d009",
      "metadata": {
        "id": "3fc4d009"
      },
      "outputs": [],
      "source": [
        "from keras.utils.np_utils import to_categorical"
      ]
    },
    {
      "cell_type": "code",
      "execution_count": 31,
      "id": "1a6f02a3",
      "metadata": {
        "id": "1a6f02a3",
        "outputId": "c8f23cb5-556e-40c8-fb49-ddbc7107b3f2",
        "colab": {
          "base_uri": "https://localhost:8080/"
        }
      },
      "outputs": [
        {
          "output_type": "execute_result",
          "data": {
            "text/plain": [
              "(60000,)"
            ]
          },
          "metadata": {},
          "execution_count": 31
        }
      ],
      "source": [
        "y_train.shape"
      ]
    },
    {
      "cell_type": "code",
      "execution_count": 32,
      "id": "24a6b8e6",
      "metadata": {
        "id": "24a6b8e6",
        "outputId": "ec157097-31e3-44e5-c3cc-bacefac42071",
        "colab": {
          "base_uri": "https://localhost:8080/"
        }
      },
      "outputs": [
        {
          "output_type": "execute_result",
          "data": {
            "text/plain": [
              "array([5, 0, 4, ..., 5, 6, 8], dtype=uint8)"
            ]
          },
          "metadata": {},
          "execution_count": 32
        }
      ],
      "source": [
        "y_train"
      ]
    },
    {
      "cell_type": "code",
      "execution_count": 33,
      "id": "e02f97b8",
      "metadata": {
        "id": "e02f97b8"
      },
      "outputs": [],
      "source": [
        "y_train_cat = to_categorical(y_train)"
      ]
    },
    {
      "cell_type": "code",
      "execution_count": 34,
      "id": "86024a99",
      "metadata": {
        "id": "86024a99",
        "outputId": "93a4054d-ec25-4d42-d902-8757a33de157",
        "colab": {
          "base_uri": "https://localhost:8080/",
          "height": 283
        }
      },
      "outputs": [
        {
          "output_type": "execute_result",
          "data": {
            "text/plain": [
              "<matplotlib.image.AxesImage at 0x7fc5541ffb50>"
            ]
          },
          "metadata": {},
          "execution_count": 34
        },
        {
          "output_type": "display_data",
          "data": {
            "image/png": "[encoded data removed]",
            "text/plain": [
              "<Figure size 432x288 with 1 Axes>"
            ]
          },
          "metadata": {
            "needs_background": "light"
          }
        }
      ],
      "source": [
        "img = X_train[300]\n",
        "plt.imshow(img , cmap='gray')"
      ]
    },
    {
      "cell_type": "code",
      "execution_count": 35,
      "id": "e8f9d041",
      "metadata": {
        "id": "e8f9d041",
        "outputId": "93ffe68c-1717-45c3-d768-8a5071025e30",
        "colab": {
          "base_uri": "https://localhost:8080/"
        }
      },
      "outputs": [
        {
          "output_type": "execute_result",
          "data": {
            "text/plain": [
              "8"
            ]
          },
          "metadata": {},
          "execution_count": 35
        }
      ],
      "source": [
        "y_train[300]"
      ]
    },
    {
      "cell_type": "code",
      "execution_count": 36,
      "id": "458773f2",
      "metadata": {
        "id": "458773f2",
        "outputId": "43c0f3f2-7cca-482a-e6ba-1ede72832628",
        "colab": {
          "base_uri": "https://localhost:8080/"
        }
      },
      "outputs": [
        {
          "output_type": "execute_result",
          "data": {
            "text/plain": [
              "array([0., 0., 0., 0., 0., 0., 0., 0., 1., 0.], dtype=float32)"
            ]
          },
          "metadata": {},
          "execution_count": 36
        }
      ],
      "source": [
        "y_train_cat[300]"
      ]
    },
    {
      "cell_type": "code",
      "execution_count": 37,
      "id": "be54da5f",
      "metadata": {
        "id": "be54da5f"
      },
      "outputs": [],
      "source": [
        "from keras.models import Sequential"
      ]
    },
    {
      "cell_type": "code",
      "execution_count": 38,
      "id": "98e2906f",
      "metadata": {
        "id": "98e2906f"
      },
      "outputs": [],
      "source": [
        "model  = Sequential()"
      ]
    },
    {
      "cell_type": "code",
      "execution_count": 39,
      "id": "3de838fe",
      "metadata": {
        "id": "3de838fe"
      },
      "outputs": [],
      "source": [
        "from keras.layers import Dense"
      ]
    },
    {
      "cell_type": "code",
      "execution_count": 40,
      "id": "8742538c",
      "metadata": {
        "id": "8742538c"
      },
      "outputs": [],
      "source": [
        "model.add(\n",
        "    Dense( units=512 , input_dim=28*28 , activation='relu')\n",
        ")"
      ]
    },
    {
      "cell_type": "code",
      "execution_count": 41,
      "id": "f6c67698",
      "metadata": {
        "id": "f6c67698",
        "outputId": "5c418c03-1abd-4e82-e3d5-d3abdabfe2aa",
        "colab": {
          "base_uri": "https://localhost:8080/"
        }
      },
      "outputs": [
        {
          "output_type": "stream",
          "name": "stdout",
          "text": [
            "Model: \"sequential\"\n",
            "_________________________________________________________________\n",
            " Layer (type)                Output Shape              Param #   \n",
            "=================================================================\n",
            " dense (Dense)               (None, 512)               401920    \n",
            "                                                                 \n",
            "=================================================================\n",
            "Total params: 401,920\n",
            "Trainable params: 401,920\n",
            "Non-trainable params: 0\n",
            "_________________________________________________________________\n"
          ]
        }
      ],
      "source": [
        "model.summary()"
      ]
    },
    {
      "cell_type": "code",
      "execution_count": 42,
      "id": "a0b3edc4",
      "metadata": {
        "id": "a0b3edc4"
      },
      "outputs": [],
      "source": [
        "model.add(\n",
        "    Dense( units=256 , activation='relu')\n",
        ")"
      ]
    },
    {
      "cell_type": "code",
      "execution_count": 43,
      "id": "7f55e19b",
      "metadata": {
        "id": "7f55e19b"
      },
      "outputs": [],
      "source": [
        "model.add(\n",
        "    Dense( units=128 , activation='relu')\n",
        ")"
      ]
    },
    {
      "cell_type": "code",
      "execution_count": 44,
      "id": "a210429b",
      "metadata": {
        "id": "a210429b"
      },
      "outputs": [],
      "source": [
        "model.add(\n",
        "    Dense( units=64 , activation='relu')\n",
        ")"
      ]
    },
    {
      "cell_type": "code",
      "execution_count": 45,
      "id": "efc701ca",
      "metadata": {
        "id": "efc701ca"
      },
      "outputs": [],
      "source": [
        "model.add(\n",
        "    Dense( units=10 , activation='softmax')\n",
        ")"
      ]
    },
    {
      "cell_type": "code",
      "execution_count": 46,
      "id": "62db926d",
      "metadata": {
        "id": "62db926d",
        "outputId": "84f7cdfe-611f-4788-d6a1-21b994817c1d",
        "colab": {
          "base_uri": "https://localhost:8080/"
        }
      },
      "outputs": [
        {
          "output_type": "stream",
          "name": "stdout",
          "text": [
            "Model: \"sequential\"\n",
            "_________________________________________________________________\n",
            " Layer (type)                Output Shape              Param #   \n",
            "=================================================================\n",
            " dense (Dense)               (None, 512)               401920    \n",
            "                                                                 \n",
            " dense_1 (Dense)             (None, 256)               131328    \n",
            "                                                                 \n",
            " dense_2 (Dense)             (None, 128)               32896     \n",
            "                                                                 \n",
            " dense_3 (Dense)             (None, 64)                8256      \n",
            "                                                                 \n",
            " dense_4 (Dense)             (None, 10)                650       \n",
            "                                                                 \n",
            "=================================================================\n",
            "Total params: 575,050\n",
            "Trainable params: 575,050\n",
            "Non-trainable params: 0\n",
            "_________________________________________________________________\n"
          ]
        }
      ],
      "source": [
        "model.summary()"
      ]
    },
    {
      "cell_type": "code",
      "execution_count": 50,
      "id": "aa630b30",
      "metadata": {
        "id": "aa630b30"
      },
      "outputs": [],
      "source": [
        "# from keras.optimizers import RMSprop"
      ]
    },
    {
      "cell_type": "code",
      "execution_count": 51,
      "id": "89fe2f0c",
      "metadata": {
        "id": "89fe2f0c"
      },
      "outputs": [],
      "source": [
        "model.compile(\n",
        "            optimizer='adam' , \n",
        "            loss='categorical_crossentropy',\n",
        "            metrics=['accuracy']\n",
        "             )"
      ]
    },
    {
      "cell_type": "code",
      "execution_count": 52,
      "id": "9c67cc11",
      "metadata": {
        "id": "9c67cc11",
        "outputId": "1ffbfa54-7a9e-4f68-d781-3296545dd240",
        "colab": {
          "base_uri": "https://localhost:8080/"
        }
      },
      "outputs": [
        {
          "metadata": {
            "tags": null
          },
          "name": "stdout",
          "output_type": "stream",
          "text": [
            "Epoch 1/10\n",
            "1875/1875 [==============================] - 17s 8ms/step - loss: 0.6943 - accuracy: 0.8993\n",
            "Epoch 2/10\n",
            "1875/1875 [==============================] - 15s 8ms/step - loss: 0.1885 - accuracy: 0.9479\n",
            "Epoch 3/10\n",
            "1875/1875 [==============================] - 15s 8ms/step - loss: 0.1508 - accuracy: 0.9572\n",
            "Epoch 4/10\n",
            "1875/1875 [==============================] - 15s 8ms/step - loss: 0.1237 - accuracy: 0.9649\n",
            "Epoch 5/10\n",
            "1875/1875 [==============================] - 16s 8ms/step - loss: 0.1037 - accuracy: 0.9709\n",
            "Epoch 6/10\n",
            "1875/1875 [==============================] - 16s 9ms/step - loss: 0.0923 - accuracy: 0.9746\n",
            "Epoch 7/10\n",
            "1875/1875 [==============================] - 15s 8ms/step - loss: 0.0825 - accuracy: 0.9775\n",
            "Epoch 8/10\n",
            "1875/1875 [==============================] - 15s 8ms/step - loss: 0.0667 - accuracy: 0.9822\n",
            "Epoch 9/10\n",
            "1875/1875 [==============================] - 16s 8ms/step - loss: 0.0671 - accuracy: 0.9818\n",
            "Epoch 10/10\n",
            "1875/1875 [==============================] - 15s 8ms/step - loss: 0.0558 - accuracy: 0.9850\n"
          ]
        },
        {
          "output_type": "execute_result",
          "data": {
            "text/plain": [
              "<keras.callbacks.History at 0x7fc55001ae50>"
            ]
          },
          "metadata": {},
          "execution_count": 52
        }
      ],
      "source": [
        "model.fit( X_train_1d_f , y_train_cat , epochs=3)\n"
      ]
    },
    {
      "cell_type": "code",
      "execution_count": 53,
      "id": "d3725916",
      "metadata": {
        "id": "d3725916"
      },
      "outputs": [],
      "source": [
        "img_test = X_test[12]"
      ]
    },
    {
      "cell_type": "code",
      "execution_count": 56,
      "id": "5461f06e",
      "metadata": {
        "id": "5461f06e",
        "outputId": "260e2ef7-8856-4d7e-b706-60b33fd3e802",
        "colab": {
          "base_uri": "https://localhost:8080/",
          "height": 283
        }
      },
      "outputs": [
        {
          "output_type": "execute_result",
          "data": {
            "text/plain": [
              "<matplotlib.image.AxesImage at 0x7fc54fee2e90>"
            ]
          },
          "metadata": {},
          "execution_count": 56
        },
        {
          "output_type": "display_data",
          "data": {
            "image/png": "[encoded data removed]",
            "text/plain": [
              "<Figure size 432x288 with 1 Axes>"
            ]
          },
          "metadata": {
            "needs_background": "light"
          }
        }
      ],
      "source": [
        "plt.imshow(img_test, cmap='gray')"
      ]
    },
    {
      "cell_type": "code",
      "execution_count": 55,
      "id": "1a200f07",
      "metadata": {
        "id": "1a200f07",
        "outputId": "b198ce24-a75b-465c-d509-0b6c30bcf50a",
        "colab": {
          "base_uri": "https://localhost:8080/"
        }
      },
      "outputs": [
        {
          "output_type": "execute_result",
          "data": {
            "text/plain": [
              "(28, 28)"
            ]
          },
          "metadata": {},
          "execution_count": 55
        }
      ],
      "source": [
        "img_test.shape"
      ]
    },
    {
      "cell_type": "code",
      "execution_count": 57,
      "id": "8b1be26b",
      "metadata": {
        "id": "8b1be26b"
      },
      "outputs": [],
      "source": [
        "img_test_1d = img_test.reshape(1 , 28*28)"
      ]
    },
    {
      "cell_type": "code",
      "execution_count": 58,
      "id": "839f3af3",
      "metadata": {
        "id": "839f3af3",
        "outputId": "fd6de00e-cc6e-4163-8803-016e1c0bfbb5",
        "colab": {
          "base_uri": "https://localhost:8080/"
        }
      },
      "outputs": [
        {
          "output_type": "execute_result",
          "data": {
            "text/plain": [
              "(1, 784)"
            ]
          },
          "metadata": {},
          "execution_count": 58
        }
      ],
      "source": [
        "img_test_1d.shape"
      ]
    },
    {
      "cell_type": "code",
      "execution_count": 58,
      "id": "77cc4e52",
      "metadata": {
        "id": "77cc4e52"
      },
      "outputs": [],
      "source": [
        ""
      ]
    },
    {
      "cell_type": "code",
      "execution_count": 59,
      "id": "fbc8aa87",
      "metadata": {
        "id": "fbc8aa87",
        "outputId": "5461f5ae-bce1-4f27-a5f4-c21c2c974402",
        "colab": {
          "base_uri": "https://localhost:8080/"
        }
      },
      "outputs": [
        {
          "output_type": "execute_result",
          "data": {
            "text/plain": [
              "array([[8.1435649e-09, 6.2591856e-09, 5.0003536e-07, 1.1207782e-07,\n",
              "        1.9359283e-04, 2.1051751e-06, 7.8391524e-09, 8.0441023e-05,\n",
              "        2.9547994e-08, 9.9972326e-01]], dtype=float32)"
            ]
          },
          "metadata": {},
          "execution_count": 59
        }
      ],
      "source": [
        "model.predict(img_test_1d)"
      ]
    },
    {
      "cell_type": "code",
      "execution_count": 60,
      "id": "7d4118ad",
      "metadata": {
        "id": "7d4118ad"
      },
      "outputs": [],
      "source": [
        "import keras.backend as k\n",
        "k.clear_session()"
      ]
    },
    {
      "cell_type": "code",
      "execution_count": null,
      "id": "65d71dbe",
      "metadata": {
        "id": "65d71dbe"
      },
      "outputs": [],
      "source": [
        ""
      ]
    }
  ],
  "metadata": {
    "kernelspec": {
      "display_name": "Python 3",
      "language": "python",
      "name": "python3"
    },
    "language_info": {
      "codemirror_mode": {
        "name": "ipython",
        "version": 3
      },
      "file_extension": ".py",
      "mimetype": "text/x-python",
      "name": "python",
      "nbconvert_exporter": "python",
      "pygments_lexer": "ipython3",
      "version": "3.8.8"
    },
    "colab": {
      "name": "mnist hand written rec.ipynb",
      "provenance": []
    }
  },
  "nbformat": 4,
  "nbformat_minor": 5
}