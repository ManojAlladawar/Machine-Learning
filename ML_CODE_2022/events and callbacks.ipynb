{
 "cells": [
  {
   "cell_type": "code",
   "execution_count": 1,
   "id": "d6a39f06",
   "metadata": {},
   "outputs": [],
   "source": [
    "import cv2"
   ]
  },
  {
   "cell_type": "code",
   "execution_count": 2,
   "id": "78632757",
   "metadata": {},
   "outputs": [],
   "source": [
    "cap = cv2.VideoCapture(0)"
   ]
  },
  {
   "cell_type": "code",
   "execution_count": 4,
   "id": "69d2ae75",
   "metadata": {},
   "outputs": [],
   "source": [
    "ret, photo = cap.read()"
   ]
  },
  {
   "cell_type": "code",
   "execution_count": 7,
   "id": "6f768910",
   "metadata": {},
   "outputs": [],
   "source": [
    "cap.release()"
   ]
  },
  {
   "cell_type": "code",
   "execution_count": 8,
   "id": "93d3101b",
   "metadata": {},
   "outputs": [],
   "source": [
    "cv2.imshow('hi',photo)"
   ]
  },
  {
   "cell_type": "code",
   "execution_count": 11,
   "id": "f9fce516",
   "metadata": {},
   "outputs": [],
   "source": [
    "cv2.destroyAllWindows()"
   ]
  },
  {
   "cell_type": "code",
   "execution_count": 12,
   "id": "07b30620",
   "metadata": {},
   "outputs": [
    {
     "data": {
      "text/plain": [
       "numpy.ndarray"
      ]
     },
     "execution_count": 12,
     "metadata": {},
     "output_type": "execute_result"
    }
   ],
   "source": [
    "type(photo)"
   ]
  },
  {
   "cell_type": "code",
   "execution_count": 14,
   "id": "08d45921",
   "metadata": {},
   "outputs": [
    {
     "data": {
      "text/plain": [
       "(480, 640, 3)"
      ]
     },
     "execution_count": 14,
     "metadata": {},
     "output_type": "execute_result"
    }
   ],
   "source": [
    "photo.shape"
   ]
  },
  {
   "cell_type": "code",
   "execution_count": 15,
   "id": "81896b3d",
   "metadata": {},
   "outputs": [],
   "source": [
    "a = photo[10:100,20:100]"
   ]
  },
  {
   "cell_type": "code",
   "execution_count": 16,
   "id": "d987bea1",
   "metadata": {},
   "outputs": [
    {
     "data": {
      "text/plain": [
       "True"
      ]
     },
     "execution_count": 16,
     "metadata": {},
     "output_type": "execute_result"
    }
   ],
   "source": [
    "cv2.imwrite('a.jpg',a)"
   ]
  },
  {
   "cell_type": "code",
   "execution_count": 17,
   "id": "2f8f4444",
   "metadata": {},
   "outputs": [
    {
     "data": {
      "text/plain": [
       "array([[[ 50,  97, 124],\n",
       "        [ 54,  99, 126],\n",
       "        [ 57, 100, 127],\n",
       "        ...,\n",
       "        [ 83, 109, 125],\n",
       "        [ 83, 109, 126],\n",
       "        [ 83, 108, 128]],\n",
       "\n",
       "       [[ 53,  97, 121],\n",
       "        [ 56,  97, 122],\n",
       "        [ 57,  97, 125],\n",
       "        ...,\n",
       "        [ 82, 111, 126],\n",
       "        [ 82, 110, 127],\n",
       "        [ 82, 109, 129]],\n",
       "\n",
       "       [[ 62,  98, 122],\n",
       "        [ 63,  98, 124],\n",
       "        [ 63,  98, 124],\n",
       "        ...,\n",
       "        [ 81, 112, 127],\n",
       "        [ 81, 111, 128],\n",
       "        [ 81, 111, 130]],\n",
       "\n",
       "       ...,\n",
       "\n",
       "       [[  3,  21,  44],\n",
       "        [  2,  19,  46],\n",
       "        [  4,  19,  52],\n",
       "        ...,\n",
       "        [  5,  13,  26],\n",
       "        [ 10,  16,  27],\n",
       "        [  8,  15,  24]],\n",
       "\n",
       "       [[  3,  21,  44],\n",
       "        [  2,  19,  46],\n",
       "        [  2,  17,  50],\n",
       "        ...,\n",
       "        [  4,  12,  25],\n",
       "        [  6,  12,  23],\n",
       "        [  7,  14,  23]],\n",
       "\n",
       "       [[  5,  21,  44],\n",
       "        [  4,  18,  46],\n",
       "        [  4,  17,  49],\n",
       "        ...,\n",
       "        [  4,  12,  25],\n",
       "        [  6,  12,  23],\n",
       "        [  9,  14,  23]]], dtype=uint8)"
      ]
     },
     "execution_count": 17,
     "metadata": {},
     "output_type": "execute_result"
    }
   ],
   "source": [
    "cv2.imread('a.jpg')"
   ]
  },
  {
   "cell_type": "code",
   "execution_count": 18,
   "id": "dd994455",
   "metadata": {},
   "outputs": [],
   "source": [
    "cv2.imshow('hi',a)"
   ]
  },
  {
   "cell_type": "code",
   "execution_count": 19,
   "id": "b39221d7",
   "metadata": {},
   "outputs": [],
   "source": [
    "cv2.destroyAllWindows()"
   ]
  },
  {
   "cell_type": "markdown",
   "id": "3e6deb46",
   "metadata": {},
   "source": [
    "# events and cakllbacks\n"
   ]
  },
  {
   "cell_type": "code",
   "execution_count": 2,
   "id": "44d0577b",
   "metadata": {},
   "outputs": [],
   "source": [
    "import cv2"
   ]
  },
  {
   "cell_type": "code",
   "execution_count": 3,
   "id": "5c2151dc",
   "metadata": {},
   "outputs": [],
   "source": [
    "cap = cv2.VideoCapture(0)"
   ]
  },
  {
   "cell_type": "code",
   "execution_count": 4,
   "id": "f1b8658f",
   "metadata": {},
   "outputs": [],
   "source": [
    "ret, photo = cap.read()\n",
    "cap.release()"
   ]
  },
  {
   "cell_type": "code",
   "execution_count": 5,
   "id": "1de3f013",
   "metadata": {},
   "outputs": [
    {
     "data": {
      "text/plain": [
       "numpy.ndarray"
      ]
     },
     "execution_count": 5,
     "metadata": {},
     "output_type": "execute_result"
    }
   ],
   "source": [
    "type(photo)"
   ]
  },
  {
   "cell_type": "code",
   "execution_count": 6,
   "id": "7fd61c08",
   "metadata": {},
   "outputs": [
    {
     "data": {
      "text/plain": [
       "array([[[134, 111, 113],\n",
       "        [133, 110, 111],\n",
       "        [134, 110, 111],\n",
       "        ...,\n",
       "        [ 73,  66, 106],\n",
       "        [ 78,  70, 110],\n",
       "        [ 75,  67, 107]],\n",
       "\n",
       "       [[134, 112, 114],\n",
       "        [135, 112, 113],\n",
       "        [135, 111, 112],\n",
       "        ...,\n",
       "        [ 75,  68, 106],\n",
       "        [ 78,  71, 109],\n",
       "        [ 75,  68, 106]],\n",
       "\n",
       "       [[135, 114, 116],\n",
       "        [135, 113, 114],\n",
       "        [136, 113, 114],\n",
       "        ...,\n",
       "        [ 76,  68, 102],\n",
       "        [ 78,  70, 104],\n",
       "        [ 76,  68, 102]],\n",
       "\n",
       "       ...,\n",
       "\n",
       "       [[ 41,  37,  46],\n",
       "        [ 40,  37,  46],\n",
       "        [ 43,  39,  48],\n",
       "        ...,\n",
       "        [117, 107, 109],\n",
       "        [117, 107, 109],\n",
       "        [117, 107, 109]],\n",
       "\n",
       "       [[ 36,  33,  46],\n",
       "        [ 37,  34,  47],\n",
       "        [ 39,  35,  48],\n",
       "        ...,\n",
       "        [116, 105, 107],\n",
       "        [115, 105, 107],\n",
       "        [115, 105, 107]],\n",
       "\n",
       "       [[ 33,  30,  45],\n",
       "        [ 33,  30,  45],\n",
       "        [ 36,  32,  47],\n",
       "        ...,\n",
       "        [118, 107, 109],\n",
       "        [118, 107, 109],\n",
       "        [118, 107, 109]]], dtype=uint8)"
      ]
     },
     "execution_count": 6,
     "metadata": {},
     "output_type": "execute_result"
    }
   ],
   "source": [
    "photo\n"
   ]
  },
  {
   "cell_type": "code",
   "execution_count": 7,
   "id": "ac340445",
   "metadata": {},
   "outputs": [
    {
     "data": {
      "text/plain": [
       "1906416069968"
      ]
     },
     "execution_count": 7,
     "metadata": {},
     "output_type": "execute_result"
    }
   ],
   "source": [
    "id(photo)"
   ]
  },
  {
   "cell_type": "code",
   "execution_count": 8,
   "id": "bc64ad36",
   "metadata": {},
   "outputs": [
    {
     "data": {
      "text/plain": [
       "True"
      ]
     },
     "execution_count": 8,
     "metadata": {},
     "output_type": "execute_result"
    }
   ],
   "source": [
    "ret"
   ]
  },
  {
   "cell_type": "code",
   "execution_count": 28,
   "id": "28f9bdcc",
   "metadata": {},
   "outputs": [],
   "source": [
    "cv2.imshow('hi',photo)"
   ]
  },
  {
   "cell_type": "code",
   "execution_count": 29,
   "id": "e15141c2",
   "metadata": {},
   "outputs": [],
   "source": [
    "cv2.destroyAllWindows()"
   ]
  },
  {
   "cell_type": "code",
   "execution_count": 9,
   "id": "b2ed6c0c",
   "metadata": {},
   "outputs": [],
   "source": [
    "cv2.namedWindow(winname = \"mywin\")"
   ]
  },
  {
   "cell_type": "code",
   "execution_count": 10,
   "id": "960ed05b",
   "metadata": {},
   "outputs": [],
   "source": [
    "cv2.imshow(\"mywin\",photo)"
   ]
  },
  {
   "cell_type": "code",
   "execution_count": null,
   "id": "0694b020",
   "metadata": {},
   "outputs": [],
   "source": [
    "cv2.waitKey() \n",
    "cv2.destroyAllWindows()"
   ]
  },
  {
   "cell_type": "code",
   "execution_count": null,
   "id": "c36c9fd4",
   "metadata": {},
   "outputs": [],
   "source": [
    "cv2.setMouseCallback(\"mywin\",lw)"
   ]
  },
  {
   "cell_type": "code",
   "execution_count": null,
   "id": "db85acd7",
   "metadata": {},
   "outputs": [],
   "source": [
    "def lw(i,j,k,x,y,z):\n",
    "    print(\"hi\")"
   ]
  },
  {
   "cell_type": "code",
   "execution_count": null,
   "id": "b11f49ab",
   "metadata": {},
   "outputs": [],
   "source": [
    "lw\n"
   ]
  },
  {
   "cell_type": "code",
   "execution_count": null,
   "id": "92bcdc4b",
   "metadata": {},
   "outputs": [],
   "source": [
    "cv2.destroyAllWindows()"
   ]
  },
  {
   "cell_type": "markdown",
   "id": "3f4865f2",
   "metadata": {},
   "source": [
    " nphoto= photo.copy()\n",
    "cphoto = cv2.circle(nphoto,(150,150),50,[0,255,0],2)\n",
    "cv2.imshow(\"mywin\",cphoto)\n",
    "cv2.destroyAllWindows()"
   ]
  },
  {
   "cell_type": "markdown",
   "id": "310ff653",
   "metadata": {},
   "source": [
    "# create the circle at event"
   ]
  },
  {
   "cell_type": "code",
   "execution_count": null,
   "id": "857c27b5",
   "metadata": {},
   "outputs": [],
   "source": [
    "def lw(event , x , y, i,j):\n",
    "    if event == cv2.EVENT_LBUTTONDOWN:\n",
    "        print(\"x :\", x , \"y :\" , y)\n",
    "        cv2.circle(photo , (x,y) , 50 , [0,255,0], -1 )\n",
    "    \n",
    "    \n",
    "\n",
    "#cv2.imshow(photo)\n",
    "cv2.namedWindow(winname=\"mywin1\")\n",
    "\n",
    "cv2.setMouseCallback( \"mywin1\" , lw  )\n",
    "\n",
    "while True:\n",
    "    cv2.imshow(\"mywin1\" , photo)\n",
    "    if cv2.waitKey(100) == 13:\n",
    "        break\n",
    "        \n",
    "cv2.destroyAllWindows()"
   ]
  },
  {
   "cell_type": "code",
   "execution_count": null,
   "id": "2a61f7d8",
   "metadata": {},
   "outputs": [],
   "source": [
    "def lw(event , x , y, i,j):\n",
    "    if event == cv2.EVENT_LBUTTONDOWN:\n",
    "        print(x,y)\n",
    "        if event == cv2.EVENT_MOUSEMOVE:\n",
    "            print(\"x :\", x , \"y :\" , y)\n",
    "            cv2.circle(photo , (x,y) , 1 , [0,255,0], -1 )\n",
    "        \n",
    "    \n",
    "\n",
    "#cv2.imshow(photo)\n",
    "cv2.namedWindow(winname=\"mywin1\")\n",
    "\n",
    "cv2.setMouseCallback( \"mywin1\" , lw  )\n",
    "\n",
    "while True:\n",
    "    cv2.imshow(\"mywin1\" , photo)\n",
    "    if cv2.waitKey(100) == 13:\n",
    "        break\n",
    "        \n",
    "cv2.destroyAllWindows()"
   ]
  }
 ],
 "metadata": {
  "kernelspec": {
   "display_name": "Python 3 (ipykernel)",
   "language": "python",
   "name": "python3"
  },
  "language_info": {
   "codemirror_mode": {
    "name": "ipython",
    "version": 3
   },
   "file_extension": ".py",
   "mimetype": "text/x-python",
   "name": "python",
   "nbconvert_exporter": "python",
   "pygments_lexer": "ipython3",
   "version": "3.9.7"
  }
 },
 "nbformat": 4,
 "nbformat_minor": 5
}
