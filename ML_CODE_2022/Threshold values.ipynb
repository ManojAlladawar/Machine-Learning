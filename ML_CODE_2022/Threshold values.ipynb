{
 "cells": [
  {
   "cell_type": "code",
   "execution_count": null,
   "id": "ffd5daa9",
   "metadata": {},
   "outputs": [],
   "source": [
    "import cv2\n",
    "import matplotlib.pyplot as plt"
   ]
  },
  {
   "cell_type": "code",
   "execution_count": null,
   "id": "c3170474",
   "metadata": {},
   "outputs": [],
   "source": [
    "pic1 = cv2.imread(\"manoj.jfif\")\n",
    "pic1 = cv2.cvtColor(pic1, cv2.COLOR_BGR2RGB)\n",
    "cv2.cvtColor(pic1, cv2.COLOR_RGB2GRAY)"
   ]
  },
  {
   "cell_type": "code",
   "execution_count": null,
   "id": "7155e374",
   "metadata": {},
   "outputs": [],
   "source": [
    "cv2.imshow(\"hi\",pic1)"
   ]
  },
  {
   "cell_type": "code",
   "execution_count": null,
   "id": "d0ab7d2b",
   "metadata": {},
   "outputs": [],
   "source": [
    "cv2.destroyAllWindows()"
   ]
  },
  {
   "cell_type": "code",
   "execution_count": null,
   "id": "3e84ba98",
   "metadata": {},
   "outputs": [],
   "source": [
    "plt.imshow(pic1)"
   ]
  },
  {
   "cell_type": "code",
   "execution_count": null,
   "id": "f5268bfa",
   "metadata": {},
   "outputs": [],
   "source": [
    "pic1.shape"
   ]
  },
  {
   "cell_type": "code",
   "execution_count": null,
   "id": "33670ddc",
   "metadata": {},
   "outputs": [],
   "source": [
    "pic1"
   ]
  },
  {
   "cell_type": "code",
   "execution_count": null,
   "id": "d70dc202",
   "metadata": {},
   "outputs": [],
   "source": [
    "import numpy as np \n"
   ]
  },
  {
   "cell_type": "code",
   "execution_count": null,
   "id": "dc7810d0",
   "metadata": {},
   "outputs": [],
   "source": [
    "kernal = np.ones((3,3))"
   ]
  },
  {
   "cell_type": "code",
   "execution_count": null,
   "id": "606a0e9f",
   "metadata": {},
   "outputs": [],
   "source": [
    "plt.imshow(pic1, cmap='gray')"
   ]
  },
  {
   "cell_type": "code",
   "execution_count": null,
   "id": "5741c949",
   "metadata": {},
   "outputs": [],
   "source": [
    "k = np.ones( (3,3 ))  / 25\n",
    "\n"
   ]
  },
  {
   "cell_type": "code",
   "execution_count": null,
   "id": "b8d82350",
   "metadata": {},
   "outputs": [],
   "source": [
    "k"
   ]
  },
  {
   "cell_type": "code",
   "execution_count": null,
   "id": "273bce93",
   "metadata": {},
   "outputs": [],
   "source": [
    "type(k)"
   ]
  },
  {
   "cell_type": "code",
   "execution_count": null,
   "id": "d8a65f4e",
   "metadata": {},
   "outputs": [],
   "source": [
    "k1 = np.array([\n",
    "      [0, -1, 0], \n",
    "      [-1,5,-1], \n",
    "      [0,-1,0]\n",
    "])"
   ]
  },
  {
   "cell_type": "code",
   "execution_count": null,
   "id": "49f85d1d",
   "metadata": {},
   "outputs": [],
   "source": [
    "k1"
   ]
  },
  {
   "cell_type": "code",
   "execution_count": null,
   "id": "55e61ec4",
   "metadata": {},
   "outputs": [],
   "source": [
    "pic1"
   ]
  },
  {
   "cell_type": "code",
   "execution_count": null,
   "id": "02a5bb51",
   "metadata": {},
   "outputs": [],
   "source": [
    "nphoto = cv2.filter2D(src=pic1, ddepth=-1,  kernel=k1 )"
   ]
  },
  {
   "cell_type": "code",
   "execution_count": null,
   "id": "9e4f7c15",
   "metadata": {},
   "outputs": [],
   "source": [
    "plt.imshow(pic1)"
   ]
  },
  {
   "cell_type": "code",
   "execution_count": null,
   "id": "6b8e1a2e",
   "metadata": {},
   "outputs": [],
   "source": [
    "cap = cv2.VideoCapture(0)"
   ]
  },
  {
   "cell_type": "code",
   "execution_count": null,
   "id": "78c081e9",
   "metadata": {},
   "outputs": [],
   "source": [
    "while True:\n",
    "    ret, photo = cap.read()\n",
    "    nphoto = cv2.filter2D(src=pic1, ddepth=-1,  kernel=k1 )\n",
    "    fphoto = cv2.cvtColor(nphoto, cv2.COLOR_BGR2GRAY)\n",
    "    plt.imshow(fphoto)\n",
    "    cap.release()"
   ]
  },
  {
   "cell_type": "code",
   "execution_count": 1,
   "id": "81d1cda5",
   "metadata": {},
   "outputs": [
    {
     "ename": "NameError",
     "evalue": "name 'cap' is not defined",
     "output_type": "error",
     "traceback": [
      "\u001b[1;31m---------------------------------------------------------------------------\u001b[0m",
      "\u001b[1;31mNameError\u001b[0m                                 Traceback (most recent call last)",
      "\u001b[1;32m~\\AppData\\Local\\Temp/ipykernel_21524/3513563645.py\u001b[0m in \u001b[0;36m<module>\u001b[1;34m\u001b[0m\n\u001b[1;32m----> 1\u001b[1;33m \u001b[0mcap\u001b[0m\u001b[1;33m.\u001b[0m\u001b[0mrelease\u001b[0m\u001b[1;33m(\u001b[0m\u001b[1;33m)\u001b[0m\u001b[1;33m\u001b[0m\u001b[1;33m\u001b[0m\u001b[0m\n\u001b[0m",
      "\u001b[1;31mNameError\u001b[0m: name 'cap' is not defined"
     ]
    }
   ],
   "source": [
    "cap.release()"
   ]
  },
  {
   "cell_type": "code",
   "execution_count": null,
   "id": "e45e2ff1",
   "metadata": {},
   "outputs": [],
   "source": [
    "bphoto = cv2.blur(photo, (10,10)  )"
   ]
  },
  {
   "cell_type": "code",
   "execution_count": null,
   "id": "d81b4a91",
   "metadata": {},
   "outputs": [],
   "source": [
    "nphoto = cv2.medianBlur(src=pic1, ksize=5 )"
   ]
  },
  {
   "cell_type": "code",
   "execution_count": null,
   "id": "234a163f",
   "metadata": {},
   "outputs": [],
   "source": [
    "ret, tphoto = cv2.threshold(pic1, 128, 255, cv2.THRESH_BINARY)"
   ]
  },
  {
   "cell_type": "code",
   "execution_count": null,
   "id": "ad4c8681",
   "metadata": {},
   "outputs": [],
   "source": [
    "ret, tphoto = cv2.threshold(pic1, 128, 255, cv2.THRESH_BINARY_INV)"
   ]
  },
  {
   "cell_type": "code",
   "execution_count": null,
   "id": "7ecd7a8e",
   "metadata": {},
   "outputs": [],
   "source": [
    "cv2.imshow(\"R\", photo)\n",
    "cv2.imshow(\"T\", tphoto)\n",
    "cv2.waitKey()\n",
    "cv2.destroyAllWindows()"
   ]
  },
  {
   "cell_type": "code",
   "execution_count": null,
   "id": "ebb90a28",
   "metadata": {},
   "outputs": [],
   "source": [
    "ret, tphoto = cv2.threshold(photo, 128, 255,  cv2.THRESH_BINARY_INV )\n",
    "ret, tphoto = cv2.threshold(photo, 127, 255,  cv2.THRESH_TRUNC )"
   ]
  }
 ],
 "metadata": {
  "kernelspec": {
   "display_name": "Python 3 (ipykernel)",
   "language": "python",
   "name": "python3"
  },
  "language_info": {
   "codemirror_mode": {
    "name": "ipython",
    "version": 3
   },
   "file_extension": ".py",
   "mimetype": "text/x-python",
   "name": "python",
   "nbconvert_exporter": "python",
   "pygments_lexer": "ipython3",
   "version": "3.9.7"
  }
 },
 "nbformat": 4,
 "nbformat_minor": 5
}
